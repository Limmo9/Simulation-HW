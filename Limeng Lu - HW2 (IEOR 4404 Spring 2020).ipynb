{
 "cells": [
  {
   "cell_type": "markdown",
   "metadata": {
    "colab_type": "text",
    "id": "DyUm7MGOiGkN"
   },
   "source": [
    "# **IEOR 4404  Simulation (Spring 2020)**\n",
    "\n",
    "**Homework 2 [Total points: 60]**\n",
    "\n",
    "\n",
    "**Due 11:59 PM, Feb 20**\n",
    "\n",
    "Homework 2 consists of application-oriented exercises focusing on\n",
    "\n",
    "* Python and Statistics basics\n",
    "* Random Number Generation\n",
    "* Monte-Carlo Integration\n",
    "\n",
    "The steps to finish the homework:\n",
    "\n",
    "*   Step 1: Answer your homework on Google Colab.\n",
    "*   Step 2: Submit the copy on Google Assignment\n",
    "\n",
    "Before you submit your assignment, make sure to re-run your code from the beginning. (You can do so by first clicking Runtime/Reset All Runtimes and then clicking Runtime/Run all)\n",
    "\n"
   ]
  },
  {
   "cell_type": "code",
   "execution_count": 1,
   "metadata": {
    "colab": {},
    "colab_type": "code",
    "id": "QAa2VwXwiWMZ"
   },
   "outputs": [],
   "source": [
    "#Your Name: Limeng Lu\n",
    "#Your UNI: ll3359"
   ]
  },
  {
   "cell_type": "code",
   "execution_count": 2,
   "metadata": {
    "colab": {},
    "colab_type": "code",
    "id": "7EyI11SeiXGt"
   },
   "outputs": [],
   "source": [
    "#This imports all the packages you need for the homework (you might not use some of them)\n",
    "#Please run this first\n",
    "import numpy as np\n",
    "\n",
    "import scipy.special as spsp\n",
    "\n",
    "import scipy.stats as spspt\n",
    "\n",
    "import matplotlib.pyplot as plt\n",
    "\n",
    "%matplotlib inline\n"
   ]
  },
  {
   "cell_type": "markdown",
   "metadata": {
    "colab_type": "text",
    "id": "sZg8cqbA8Fi2"
   },
   "source": [
    "#Exercise 1 [12 Points]\n",
    "**Setting**\n",
    "\n",
    "Binomial distribution has the following PMF:\n",
    "\n",
    "$PMF(x)=\\frac{n!}{k!(n-k)!}p^k(1-p)^{n-k}$ where $k=0,1,\\dots,n$\n",
    "\n",
    "For this question, let's assume $n=5$ and $p=0.5$. \n"
   ]
  },
  {
   "cell_type": "markdown",
   "metadata": {
    "colab_type": "text",
    "id": "Xw09Qc4w8yOF"
   },
   "source": [
    "##Q1. [6 Points]\n",
    "\n",
    "Visualize this distribution using a bar chart."
   ]
  },
  {
   "cell_type": "code",
   "execution_count": 7,
   "metadata": {
    "colab": {
     "base_uri": "https://localhost:8080/",
     "height": 295
    },
    "colab_type": "code",
    "executionInfo": {
     "elapsed": 752,
     "status": "ok",
     "timestamp": 1581825732771,
     "user": {
      "displayName": "Limeng Lu",
      "photoUrl": "https://lh3.googleusercontent.com/a-/AAuE7mCo5TzGYXCYBYK6MRlLz37TeynMuLIocNgwn2i-=s64",
      "userId": "02643143231991406731"
     },
     "user_tz": 300
    },
    "id": "sLsAV74n-T7h",
    "outputId": "ecb4cf34-f5f0-4567-c148-1e234491188b"
   },
   "outputs": [
    {
     "data": {
      "text/plain": [
       "<BarContainer object of 6 artists>"
      ]
     },
     "execution_count": 7,
     "metadata": {},
     "output_type": "execute_result"
    },
    {
     "data": {
      "image/png": "[encoded data removed]",
      "text/plain": [
       "<Figure size 432x288 with 1 Axes>"
      ]
     },
     "metadata": {
      "needs_background": "light"
     },
     "output_type": "display_data"
    }
   ],
   "source": [
    "n=5\n",
    "k=np.arange(0,n+1)\n",
    "p=0.5\n",
    "pmf=spsp.factorial(n)/spsp.factorial(k)/spsp.factorial(n-k)*p**k*(1-p)**(n-k)\n",
    "plt.bar(k,pmf)"
   ]
  },
  {
   "cell_type": "markdown",
   "metadata": {
    "colab_type": "text",
    "id": "gfGynpuL87x8"
   },
   "source": [
    "##Q2. [6 Points]\n",
    "CDF(x) gives the probability of getting a value below or equal to x. \n",
    "\n",
    "* Report CDF(1) and  CDF(4). [Hint: `np.cumsum(PMF)` can be used to compute CDF]\n",
    "* Generate 1000 random numbers. Report the percentage of random numbers falling below CDF(1). Also, report the percentage of random numbers falling below CDF(4)."
   ]
  },
  {
   "cell_type": "code",
   "execution_count": 8,
   "metadata": {
    "colab": {
     "base_uri": "https://localhost:8080/",
     "height": 51
    },
    "colab_type": "code",
    "executionInfo": {
     "elapsed": 756,
     "status": "ok",
     "timestamp": 1581825736879,
     "user": {
      "displayName": "Limeng Lu",
      "photoUrl": "https://lh3.googleusercontent.com/a-/AAuE7mCo5TzGYXCYBYK6MRlLz37TeynMuLIocNgwn2i-=s64",
      "userId": "02643143231991406731"
     },
     "user_tz": 300
    },
    "id": "6301y-K2-TeD",
    "outputId": "5568ae46-843a-4b83-86c1-5ad87386ffa7"
   },
   "outputs": [
    {
     "name": "stdout",
     "output_type": "stream",
     "text": [
      "0.1875 0.96875\n",
      "0.196 0.973\n"
     ]
    }
   ],
   "source": [
    "CDF=np.cumsum(pmf)\n",
    "print(CDF[1],CDF[4])\n",
    "      \n",
    "samples=np.random.rand(1000)\n",
    "\n",
    "percent1=np.size(samples[samples<CDF[1]])/1000\n",
    "percent4=np.size(samples[samples<CDF[4]])/1000\n",
    "print(percent1,percent4)"
   ]
  },
  {
   "cell_type": "markdown",
   "metadata": {
    "colab_type": "text",
    "id": "TOOAEhx1wodN"
   },
   "source": [
    "#Exercise 2 [14 Points]\n",
    "**Setting**\n",
    "\n",
    "It is suggested that one of the algorithms to generate $y \\sim Unif(a,b)$ is to do the following:\n",
    "\n",
    "* Generate a random number $x$\n",
    "* Convert this random number $x$ to a sample $y$ using $(b-a) y+a$\n",
    "\n"
   ]
  },
  {
   "cell_type": "markdown",
   "metadata": {
    "colab_type": "text",
    "id": "e-c3rmhSwrQ4"
   },
   "source": [
    "##Q1. [8 Points]\n",
    "\n",
    "\n",
    "* Construct a function with $a$, $b$, and $N$ as the arguments. This function should return an array of N number of random samples $y$ based on the algorithm listed.\n",
    "* Run this function with $a=5$, $b=10$, and $N=1000$ and  visualize the distribution of the samples.\n",
    "* In the same plot, plot the targeted theoretical distribution.\n",
    "* Based on the plot, comment on whether this algorithm seems to be correct.\n"
   ]
  },
  {
   "cell_type": "code",
   "execution_count": 9,
   "metadata": {
    "colab": {
     "base_uri": "https://localhost:8080/",
     "height": 295
    },
    "colab_type": "code",
    "executionInfo": {
     "elapsed": 631,
     "status": "ok",
     "timestamp": 1581825739893,
     "user": {
      "displayName": "Limeng Lu",
      "photoUrl": "https://lh3.googleusercontent.com/a-/AAuE7mCo5TzGYXCYBYK6MRlLz37TeynMuLIocNgwn2i-=s64",
      "userId": "02643143231991406731"
     },
     "user_tz": 300
    },
    "id": "KVI-ssIXwtn2",
    "outputId": "499bea26-39fe-4720-eb25-900f59ce45d2"
   },
   "outputs": [
    {
     "data": {
      "image/png": "[encoded data removed]",
      "text/plain": [
       "<Figure size 432x288 with 1 Axes>"
      ]
     },
     "metadata": {
      "needs_background": "light"
     },
     "output_type": "display_data"
    }
   ],
   "source": [
    "def sampling(a,b,N):\n",
    "    x=np.random.rand(N)\n",
    "    return (b-a)*x+a\n",
    "a=5\n",
    "b=10\n",
    "samples=sampling(a,b,1000)\n",
    "plt.hist(samples,density=True,bins=30)\n",
    "plt.plot(np.linspace(5,10,1000),np.repeat(1/(b-a),1000))\n",
    "plt.show()\n",
    "\n",
    "##It looks like the sample distribution and theoretical distribution line up with one another although not that closely.\n",
    "##One reason could be the sample size is relatively small. "
   ]
  },
  {
   "cell_type": "markdown",
   "metadata": {
    "colab_type": "text",
    "id": "3Bw0TCEzwfJl"
   },
   "source": [
    "## Q2. [6 Points]\n",
    "\n",
    "* Run the function above with $a=10$, $b=15$, and $N=1000$. Based on the 1000 $y$ samples we generated, construct the 90% confidence interval for the population mean of the distribution $y$ is generated from."
   ]
  },
  {
   "cell_type": "code",
   "execution_count": 10,
   "metadata": {
    "colab": {
     "base_uri": "https://localhost:8080/",
     "height": 34
    },
    "colab_type": "code",
    "executionInfo": {
     "elapsed": 432,
     "status": "ok",
     "timestamp": 1581825743858,
     "user": {
      "displayName": "Limeng Lu",
      "photoUrl": "https://lh3.googleusercontent.com/a-/AAuE7mCo5TzGYXCYBYK6MRlLz37TeynMuLIocNgwn2i-=s64",
      "userId": "02643143231991406731"
     },
     "user_tz": 300
    },
    "id": "T9BDb6JKDmdK",
    "outputId": "81ef91bb-2560-4f7e-d720-da1d52e04d1a"
   },
   "outputs": [
    {
     "name": "stdout",
     "output_type": "stream",
     "text": [
      "12.439151868218968 12.588939378226915\n"
     ]
    }
   ],
   "source": [
    "a=10\n",
    "b=15\n",
    "N=1000\n",
    "samples= sampling(a,b,N)\n",
    "y_mean=np.mean(samples)\n",
    "y_std=np.std(samples,ddof=1)\n",
    "lower=y_mean-spspt.norm.ppf(0.95)*y_std/N**0.5\n",
    "upper=y_mean+spspt.norm.ppf(0.95)*y_std/N**0.5\n",
    "print(lower,upper)"
   ]
  },
  {
   "cell_type": "markdown",
   "metadata": {
    "colab_type": "text",
    "id": "oyoNkjs90qb5"
   },
   "source": [
    "#Exercise 3 [18 Points]\n",
    "**Setting**\n",
    "\n",
    "We would like to study the Monte-Carlo integration problem based on the following integration:\n",
    "\n",
    "$\\int _2 ^{-\\infty} \\frac{1}{x^4}+ \\frac{1}{x^2}\\;dx $\n",
    "\n"
   ]
  },
  {
   "cell_type": "markdown",
   "metadata": {
    "colab_type": "text",
    "id": "HrFOLGOxz-aA"
   },
   "source": [
    "##Q1. [8 Points]\n",
    "\n",
    "* Compute the integration problem above using Monte-Carlo Integral based on 1000 samples.\n",
    "* Construct the corresponding 95% confidence interval for the true value of the integration."
   ]
  },
  {
   "cell_type": "code",
   "execution_count": 11,
   "metadata": {
    "colab": {
     "base_uri": "https://localhost:8080/",
     "height": 51
    },
    "colab_type": "code",
    "executionInfo": {
     "elapsed": 509,
     "status": "ok",
     "timestamp": 1581825746693,
     "user": {
      "displayName": "Limeng Lu",
      "photoUrl": "https://lh3.googleusercontent.com/a-/AAuE7mCo5TzGYXCYBYK6MRlLz37TeynMuLIocNgwn2i-=s64",
      "userId": "02643143231991406731"
     },
     "user_tz": 300
    },
    "id": "55DKb8pJ-3ug",
    "outputId": "356f69fd-57ec-420b-e9b2-9420189a6bfb"
   },
   "outputs": [
    {
     "data": {
      "text/plain": [
       "0.5413558073436778"
      ]
     },
     "execution_count": 11,
     "metadata": {},
     "output_type": "execute_result"
    }
   ],
   "source": [
    "a=2\n",
    "y=np.random.rand(1000)\n",
    "z=1/y-1+a\n",
    "hy=(1/z**4+1/z**2)/y**2\n",
    "np.mean(hy)"
   ]
  },
  {
   "cell_type": "code",
   "execution_count": 14,
   "metadata": {},
   "outputs": [
    {
     "name": "stdout",
     "output_type": "stream",
     "text": [
      "0.5299837336826486 0.552727881004707\n"
     ]
    }
   ],
   "source": [
    "hy_mean=np.mean(hy)\n",
    "hy_std=np.std(hy,ddof=1)\n",
    "lower=hy_mean-spspt.norm.ppf(0.975)*hy_std/N**0.5\n",
    "upper=hy_mean+spspt.norm.ppf(0.975)*hy_std/N**0.5\n",
    "print(lower,upper)"
   ]
  },
  {
   "cell_type": "markdown",
   "metadata": {
    "colab_type": "text",
    "id": "vpTRxwau263p"
   },
   "source": [
    "##Q2. [10 Points]\n",
    "\n",
    "This integration problem has an analytical solution equals $\\frac{13}{24}$.\n",
    "\n",
    "Repeat Q1 500 times will allow us to collect 500 different Monte-Carlo integration results. Also, we will get 500 different 95% confidence intervals.\n",
    "\n",
    "* Plot the distribution of 500 integration results you get. Comment on the shape of the distribution and argue why you see this shape. For this plot, use bins=20.\n",
    "* Compute the percentage of times these confidence intervals contain the analytical solution."
   ]
  },
  {
   "cell_type": "code",
   "execution_count": 16,
   "metadata": {
    "colab": {
     "base_uri": "https://localhost:8080/",
     "height": 312
    },
    "colab_type": "code",
    "executionInfo": {
     "elapsed": 903,
     "status": "ok",
     "timestamp": 1581825773672,
     "user": {
      "displayName": "Limeng Lu",
      "photoUrl": "https://lh3.googleusercontent.com/a-/AAuE7mCo5TzGYXCYBYK6MRlLz37TeynMuLIocNgwn2i-=s64",
      "userId": "02643143231991406731"
     },
     "user_tz": 300
    },
    "id": "tg_tHCzSD74K",
    "outputId": "7fdea0d5-4e48-4f08-aab8-0f5db45a1171"
   },
   "outputs": [
    {
     "data": {
      "image/png": "[encoded data removed]",
      "text/plain": [
       "<Figure size 432x288 with 1 Axes>"
      ]
     },
     "metadata": {
      "needs_background": "light"
     },
     "output_type": "display_data"
    },
    {
     "data": {
      "text/plain": [
       "0.96"
      ]
     },
     "execution_count": 16,
     "metadata": {},
     "output_type": "execute_result"
    }
   ],
   "source": [
    "MC_results=np.empty(500)\n",
    "CI_included=np.empty(500,bool)\n",
    "for i in range(500):\n",
    "    a=2\n",
    "    y=np.random.rand(1000)\n",
    "    z=1/y-1+a\n",
    "    hy=(1/z**4+1/z**2)/y**2\n",
    "    hy_mean=np.mean(hy)\n",
    "    hy_std=np.std(hy,ddof=1)\n",
    "    lower=hy_mean-spspt.norm.ppf(0.975)*hy_std/N**0.5\n",
    "    upper=hy_mean+spspt.norm.ppf(0.975)*hy_std/N**0.5\n",
    "    MC_results[i]=hy_mean\n",
    "    CI_included[i]=lower<13/24 and upper>13/24\n",
    "\n",
    "plt.hist(MC_results,bins=20)\n",
    "plt.show()\n",
    "#look mound-shaped. Based on central limit theorem, Monte-Carlo integration results should follow a normal distribution\n",
    "np.mean(CI_included)"
   ]
  },
  {
   "cell_type": "markdown",
   "metadata": {
    "colab_type": "text",
    "id": "fmV5Zxeo1nlZ"
   },
   "source": [
    "#Exercise 4 [16 Points]\n",
    "\n"
   ]
  },
  {
   "cell_type": "markdown",
   "metadata": {
    "colab_type": "text",
    "id": "6UBAGUT1-Md7"
   },
   "source": [
    "**Setting**\n",
    "\n",
    "A continuous distribution B has the following probability density function (PDF):\n",
    "\n",
    "\n",
    "$f(x)=\\begin{cases} \\frac{1}{150}x(x - 5) +\\frac{2}{45} , \\text{if } 0\\leq x \\leq 10  \\\\ 0, \\text{otherwise}  \\end{cases}$\n",
    "\n"
   ]
  },
  {
   "cell_type": "markdown",
   "metadata": {
    "colab_type": "text",
    "id": "P0aoLhEc594a"
   },
   "source": [
    "## Q1. [4 Points] \n",
    "\n",
    "Visualize this distribution. Make sure to label to $x$, $y$ axis and also give a title to this plot."
   ]
  },
  {
   "cell_type": "code",
   "execution_count": 17,
   "metadata": {
    "colab": {
     "base_uri": "https://localhost:8080/",
     "height": 295
    },
    "colab_type": "code",
    "executionInfo": {
     "elapsed": 627,
     "status": "ok",
     "timestamp": 1581825778208,
     "user": {
      "displayName": "Limeng Lu",
      "photoUrl": "https://lh3.googleusercontent.com/a-/AAuE7mCo5TzGYXCYBYK6MRlLz37TeynMuLIocNgwn2i-=s64",
      "userId": "02643143231991406731"
     },
     "user_tz": 300
    },
    "id": "t5u7J7-Q59hh",
    "outputId": "74f8a32e-c088-4542-9d01-8215e24a9c44"
   },
   "outputs": [
    {
     "data": {
      "image/png": "[encoded data removed]",
      "text/plain": [
       "<Figure size 432x288 with 1 Axes>"
      ]
     },
     "metadata": {
      "needs_background": "light"
     },
     "output_type": "display_data"
    }
   ],
   "source": [
    "x=np.linspace(0,10,1000)\n",
    "pdf=1/150*x*(x-5)+2/45\n",
    "plt.plot(x,pdf)\n",
    "plt.xlabel(\"x\")\n",
    "plt.ylabel(\"pdf\")\n",
    "plt.title(\"pdf of a continuous distribution\")\n",
    "plt.show()"
   ]
  },
  {
   "cell_type": "markdown",
   "metadata": {
    "colab_type": "text",
    "id": "V1cv9pJK1w32"
   },
   "source": [
    "##Q2. [4 Points]\n",
    "\n",
    "* Based on 1000 samples, use Monte-Carlo integration to compute the CDF of this distribution at $x=3$.\n",
    "\n",
    "Remember $F(x)=\\int_{-\\infty}^{x}f(x) \\;dx$"
   ]
  },
  {
   "cell_type": "code",
   "execution_count": 18,
   "metadata": {
    "colab": {
     "base_uri": "https://localhost:8080/",
     "height": 34
    },
    "colab_type": "code",
    "executionInfo": {
     "elapsed": 441,
     "status": "ok",
     "timestamp": 1581825783735,
     "user": {
      "displayName": "Limeng Lu",
      "photoUrl": "https://lh3.googleusercontent.com/a-/AAuE7mCo5TzGYXCYBYK6MRlLz37TeynMuLIocNgwn2i-=s64",
      "userId": "02643143231991406731"
     },
     "user_tz": 300
    },
    "id": "iARkP_jWfAkI",
    "outputId": "bf470785-0d9e-41cc-efd0-9a30739a4f7a"
   },
   "outputs": [
    {
     "data": {
      "text/plain": [
       "0.04349239705808274"
      ]
     },
     "execution_count": 18,
     "metadata": {},
     "output_type": "execute_result"
    }
   ],
   "source": [
    "a=0\n",
    "b=3\n",
    "y=np.random.rand(1000)\n",
    "z=(b-a)*y+a\n",
    "hy=(1/150*z*(z-5)+2/45)*(b-a)\n",
    "np.mean(hy)"
   ]
  },
  {
   "cell_type": "markdown",
   "metadata": {
    "colab_type": "text",
    "id": "U9UZSVjJAogP"
   },
   "source": [
    "## Q3. [4 Points]\n",
    "\n",
    "* Based on 1000 samples, use Monte-Carlo integration to compute the expected value of this distribution\n",
    "\n",
    "Remember $E(x)=\\int_{-\\infty}^{\\infty}f(x)x \\;dt$"
   ]
  },
  {
   "cell_type": "code",
   "execution_count": 19,
   "metadata": {
    "colab": {
     "base_uri": "https://localhost:8080/",
     "height": 34
    },
    "colab_type": "code",
    "executionInfo": {
     "elapsed": 431,
     "status": "ok",
     "timestamp": 1581825786903,
     "user": {
      "displayName": "Limeng Lu",
      "photoUrl": "https://lh3.googleusercontent.com/a-/AAuE7mCo5TzGYXCYBYK6MRlLz37TeynMuLIocNgwn2i-=s64",
      "userId": "02643143231991406731"
     },
     "user_tz": 300
    },
    "id": "ttb7HRm5tXrD",
    "outputId": "4bfbdb48-f224-4c0b-9817-af7fbb649469"
   },
   "outputs": [
    {
     "data": {
      "text/plain": [
       "7.782638300187302"
      ]
     },
     "execution_count": 19,
     "metadata": {},
     "output_type": "execute_result"
    }
   ],
   "source": [
    "a=0\n",
    "b=10\n",
    "y=np.random.rand(1000)\n",
    "z=(b-a)*y+a\n",
    "hy=(1/150*z*(z-5)+2/45)*z*(b-a)\n",
    "np.mean(hy)"
   ]
  },
  {
   "cell_type": "markdown",
   "metadata": {
    "colab_type": "text",
    "id": "7Mzrf1jp6Vk1"
   },
   "source": [
    "## Q4. [4 Points]\n",
    "\n",
    "* Based on 1000 samples, use Monte-Carlo integration to compute the variance of this distribution\n",
    "\n",
    "Remember $Var(x)=\\int_{-\\infty}^{\\infty}f(x)x^2\\;dx-(E(x))^2$"
   ]
  },
  {
   "cell_type": "code",
   "execution_count": 20,
   "metadata": {
    "colab": {
     "base_uri": "https://localhost:8080/",
     "height": 34
    },
    "colab_type": "code",
    "executionInfo": {
     "elapsed": 197,
     "status": "ok",
     "timestamp": 1581825791969,
     "user": {
      "displayName": "Limeng Lu",
      "photoUrl": "https://lh3.googleusercontent.com/a-/AAuE7mCo5TzGYXCYBYK6MRlLz37TeynMuLIocNgwn2i-=s64",
      "userId": "02643143231991406731"
     },
     "user_tz": 300
    },
    "id": "IguyWdYf6VN5",
    "outputId": "aa68108c-d13a-48bc-8d3c-07632cd5b45d"
   },
   "outputs": [
    {
     "data": {
      "text/plain": [
       "6.496792074930838"
      ]
     },
     "execution_count": 20,
     "metadata": {},
     "output_type": "execute_result"
    }
   ],
   "source": [
    "a=0\n",
    "b=10\n",
    "y=np.random.rand(1000)\n",
    "z=(b-a)*y+a\n",
    "part1=(1/150*z*(z-5)+2/45)*z**2*(b-a)\n",
    "part2=(1/150*z*(z-5)+2/45)*z*(b-a)\n",
    "np.mean(part1)-(np.mean(part2))**2"
   ]
  },
  {
   "cell_type": "code",
   "execution_count": 21,
   "metadata": {
    "colab": {},
    "colab_type": "code",
    "id": "vb7xDrYmm4ZP"
   },
   "outputs": [
    {
     "data": {
      "text/plain": [
       "(4.207406601842853, 4.195010140261606)"
      ]
     },
     "execution_count": 21,
     "metadata": {},
     "output_type": "execute_result"
    }
   ],
   "source": [
    "import numpy as np\n",
    "def MC1():\n",
    "    a=0\n",
    "    b=10\n",
    "    y=np.random.rand(1000)\n",
    "    z=(b-a)*y+a\n",
    "    part1=(1/150*z*(z-5)+2/45)*z**2*(b-a)\n",
    "    part2=(1/150*z*(z-5)+2/45)*z*(b-a)\n",
    "    return np.mean(part1)-(np.mean(part2))**2\n",
    "results1=[MC1() for i in range(5000)]\n",
    "np.mean(results1), np.var(results1,ddof=1)"
   ]
  },
  {
   "cell_type": "code",
   "execution_count": 22,
   "metadata": {},
   "outputs": [
    {
     "data": {
      "text/plain": [
       "(4.164344399640935, 4.418258063298618)"
      ]
     },
     "execution_count": 22,
     "metadata": {},
     "output_type": "execute_result"
    }
   ],
   "source": [
    "def MC2():\n",
    "    a=0\n",
    "    b=10\n",
    "    y=np.random.rand(1000)\n",
    "    z=(b-a)*y+a\n",
    "    part1=(1/150*z*(z-5)+2/45)*z**2*(b-a)\n",
    "    part2=(1/150*z*(z-5)+2/45)*z*(b-a)\n",
    "    return np.mean(part1)-(np.mean(part2))**2\n",
    "results2=[MC2() for i in range(5000)]\n",
    "np.mean(results2), np.var(results2,ddof=1)\n",
    "\n",
    "\n"
   ]
  },
  {
   "cell_type": "code",
   "execution_count": null,
   "metadata": {},
   "outputs": [],
   "source": []
  }
 ],
 "metadata": {
  "colab": {
   "collapsed_sections": [],
   "name": "Limeng Lu - HW2 (IEOR 4404 Spring 2020).ipynb",
   "provenance": [
    {
     "file_id": "1B3RiAwjISQ07z9mhF2fVNXeqmGsSaSXF",
     "timestamp": 1581482813040
    },
    {
     "file_id": "11dVE9rH0HaiA-vB_-QjbuDjYpd_F6xcp",
     "timestamp": 1580693393623
    },
    {
     "file_id": "1rSHqixCBUKORQHvHU3DKZmKEVclX65AX",
     "timestamp": 1573914583811
    },
    {
     "file_id": "1D_sI569hbsIkkPgyXmrwZnlz4Sk0r2EM",
     "timestamp": 1573683865121
    },
    {
     "file_id": "1KAQlY-b_5oTYAr2HqQm9gVy4UYwejk8w",
     "timestamp": 1573236060279
    },
    {
     "file_id": "1RAnoHD0pJ2hcpKoJH2MEDqFiN9P894XB",
     "timestamp": 1572752481047
    },
    {
     "file_id": "1d90xTvbs1HvPh5e5OWCWS2zb0aGawsUj",
     "timestamp": 1572747469532
    },
    {
     "file_id": "114Di_mbQAakdYMmzSq0QZdQi37dvCGlh",
     "timestamp": 1554755164840
    },
    {
     "file_id": "1rdwhuqgvFprHNMfLZrsZuuR7n_LtJ-2J",
     "timestamp": 1553825647633
    },
    {
     "file_id": "1JCSp6qEW5_aKWiT5cDoBJCYomWWZ7HHj",
     "timestamp": 1553783786349
    },
    {
     "file_id": "1QAwczu2Htj70o-gz0SNv9khVKhm-c9Nx",
     "timestamp": 1539964737693
    }
   ]
  },
  "kernelspec": {
   "display_name": "Python 3",
   "language": "python",
   "name": "python3"
  },
  "language_info": {
   "codemirror_mode": {
    "name": "ipython",
    "version": 3
   },
   "file_extension": ".py",
   "mimetype": "text/x-python",
   "name": "python",
   "nbconvert_exporter": "python",
   "pygments_lexer": "ipython3",
   "version": "3.7.6"
  }
 },
 "nbformat": 4,
 "nbformat_minor": 1
}
