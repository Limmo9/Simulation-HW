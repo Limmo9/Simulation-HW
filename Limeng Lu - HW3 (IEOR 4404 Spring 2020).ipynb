{
 "cells": [
  {
   "cell_type": "markdown",
   "metadata": {
    "colab_type": "text",
    "id": "DyUm7MGOiGkN"
   },
   "source": [
    "# **IEOR 4404  Simulation (Spring 2020)**\n",
    "\n",
    "**Homework 3 [Total points: 60]**\n",
    "\n",
    "\n",
    "**Due 11:59 PM, Feb 29**\n",
    "\n",
    "Homework 3 consists of application-oriented exercises focusing on\n",
    "\n",
    "* Monte-Carlo Integration\n",
    "* Sampling from a discrete distribution using the inverse transform method\n",
    "\n",
    "The steps to finish the homework:\n",
    "\n",
    "*   Step 1: Answer your homework on Google Colab.\n",
    "*   Step 2: Submit the copy on Google Assignment\n",
    "\n",
    "Before you submit your assignment, make sure to re-run your code from the beginning. (You can do so by first clicking Runtime/Reset All Runtimes and then clicking Runtime/Run all)"
   ]
  },
  {
   "cell_type": "code",
   "execution_count": 1,
   "metadata": {
    "colab": {},
    "colab_type": "code",
    "id": "QAa2VwXwiWMZ"
   },
   "outputs": [],
   "source": [
    "#Your Name: Limeng Lu\n",
    "#Your UNI: ll3359"
   ]
  },
  {
   "cell_type": "code",
   "execution_count": 2,
   "metadata": {
    "colab": {},
    "colab_type": "code",
    "id": "7EyI11SeiXGt"
   },
   "outputs": [],
   "source": [
    "#This imports all the packages you need for the homework (you might not use some of them)\n",
    "#Please run this first\n",
    "import numpy as np\n",
    "\n",
    "import scipy.special as spsp\n",
    "\n",
    "import scipy.stats as spst\n",
    "\n",
    "import matplotlib.pyplot as plt\n",
    "\n",
    "%matplotlib inline\n"
   ]
  },
  {
   "cell_type": "markdown",
   "metadata": {
    "colab_type": "text",
    "id": "sZg8cqbA8Fi2"
   },
   "source": [
    "#Exercise 1 [20 Points]\n",
    "\n",
    "**Setting**\n",
    "\n",
    "Let's focus on the following integration:\n",
    "\n",
    "$\\int_2^5 x^2 \\; dx $"
   ]
  },
  {
   "cell_type": "markdown",
   "metadata": {
    "colab_type": "text",
    "id": "Xw09Qc4w8yOF"
   },
   "source": [
    "##Q1. [6 Points]\n",
    "\n",
    "In the lecture, we converted the integration problem to \n",
    "\n",
    "$\\int_0^1 h(y) \\; dy $.\n",
    "\n",
    "We first draw random samples of $y$ and then plugged the $y$ values into $h(y)$ function. For this exercise, let's denote the h(y) samples we got using $h^{y_1}, h^{y_2}, \\dots, h^{y_n}$.\n",
    "\n",
    "\n",
    "* Collect samples $h^{y_1}, h^{y_2}, \\dots, h^{y_{10000}}$ \n",
    "* Plot the sampling distribution of these 10000 samples of $h(y)$ we got."
   ]
  },
  {
   "cell_type": "code",
   "execution_count": 3,
   "metadata": {
    "colab": {
     "base_uri": "https://localhost:8080/",
     "height": 295
    },
    "colab_type": "code",
    "executionInfo": {
     "elapsed": 427,
     "status": "ok",
     "timestamp": 1582748734063,
     "user": {
      "displayName": "Limeng Lu",
      "photoUrl": "https://lh3.googleusercontent.com/a-/AAuE7mCo5TzGYXCYBYK6MRlLz37TeynMuLIocNgwn2i-=s64",
      "userId": "02643143231991406731"
     },
     "user_tz": 300
    },
    "id": "sLsAV74n-T7h",
    "outputId": "bc0176d4-c552-490a-a565-2f9ab5d0d49f"
   },
   "outputs": [
    {
     "data": {
      "image/png": "[encoded data removed]",
      "text/plain": [
       "<Figure size 432x288 with 1 Axes>"
      ]
     },
     "metadata": {
      "needs_background": "light"
     },
     "output_type": "display_data"
    }
   ],
   "source": [
    "y=np.random.rand(10000)\n",
    "a=2\n",
    "b=5\n",
    "z=a+(b-a)*y\n",
    "hy=z**2*(b-a)\n",
    "\n",
    "\n",
    "plt.hist(hy,density=True,bins=100)\n",
    "plt.show()"
   ]
  },
  {
   "cell_type": "markdown",
   "metadata": {
    "colab_type": "text",
    "id": "gfGynpuL87x8"
   },
   "source": [
    "##Q2. [6 Points]\n",
    "\n",
    "It can be proved that these samples are drawn from the following distribution:\n",
    "\n",
    "$$f(h^y)=\\begin{cases} \\frac{\\sqrt{3}}{18\\sqrt{h^y}}, \\text{if} \\; 12 \\leq h^y \\leq 75\\\\0, \\text{otherwise}\\end{cases}$$\n",
    "\n",
    "$E(h^y)=39$ and $Var(h^y)=334.8$\n",
    "\n",
    "[You can take the result as given. You will understand where this result is front in the later part of the course]\n",
    "\n",
    "* Plot the sample distribution using the 10000 samples generated in Q1. In the same plot, give the theoretical distribution.\n",
    "* Compare the sample mean and the sample variance of the 10000 samples we collected in the last step with the theoretical values.\n",
    "\n"
   ]
  },
  {
   "cell_type": "code",
   "execution_count": 4,
   "metadata": {
    "colab": {
     "base_uri": "https://localhost:8080/",
     "height": 295
    },
    "colab_type": "code",
    "executionInfo": {
     "elapsed": 516,
     "status": "ok",
     "timestamp": 1582748737348,
     "user": {
      "displayName": "Limeng Lu",
      "photoUrl": "https://lh3.googleusercontent.com/a-/AAuE7mCo5TzGYXCYBYK6MRlLz37TeynMuLIocNgwn2i-=s64",
      "userId": "02643143231991406731"
     },
     "user_tz": 300
    },
    "id": "6301y-K2-TeD",
    "outputId": "1e5bb64d-14e0-407c-81db-e91d6cbaec2d"
   },
   "outputs": [
    {
     "data": {
      "image/png": "[encoded data removed]",
      "text/plain": [
       "<Figure size 432x288 with 1 Axes>"
      ]
     },
     "metadata": {
      "needs_background": "light"
     },
     "output_type": "display_data"
    }
   ],
   "source": [
    "h=np.linspace(12,75,1000)\n",
    "pdf=3**0.5/18/h**0.5\n",
    "plt.hist(hy,density=True,bins=100)\n",
    "plt.plot(h,pdf)\n",
    "plt.show()"
   ]
  },
  {
   "cell_type": "code",
   "execution_count": 5,
   "metadata": {
    "colab": {
     "base_uri": "https://localhost:8080/",
     "height": 51
    },
    "colab_type": "code",
    "executionInfo": {
     "elapsed": 299,
     "status": "ok",
     "timestamp": 1582748740951,
     "user": {
      "displayName": "Limeng Lu",
      "photoUrl": "https://lh3.googleusercontent.com/a-/AAuE7mCo5TzGYXCYBYK6MRlLz37TeynMuLIocNgwn2i-=s64",
      "userId": "02643143231991406731"
     },
     "user_tz": 300
    },
    "id": "xPmtdQZ0EdCh",
    "outputId": "a14b394a-1f2a-4d36-dc9a-cfb59575ecc6"
   },
   "outputs": [
    {
     "name": "stdout",
     "output_type": "stream",
     "text": [
      "38.91543887920745\n",
      "335.4604874666455\n"
     ]
    }
   ],
   "source": [
    "print(np.mean(hy))\n",
    "print(np.var(hy,ddof=1))\n"
   ]
  },
  {
   "cell_type": "markdown",
   "metadata": {
    "colab_type": "text",
    "id": "_wj9Ezu6CSxw"
   },
   "source": [
    "##Q3. [8 Points]\n",
    "\n",
    "Generate the Monte-carlo integration results 1000 times. \n",
    "\n",
    "* Plot the distribution of these 1000 samples. \n",
    "* In the same plot, show the theoretical distribution based on the central limit theorem.\n",
    "\n"
   ]
  },
  {
   "cell_type": "code",
   "execution_count": 6,
   "metadata": {
    "colab": {
     "base_uri": "https://localhost:8080/",
     "height": 295
    },
    "colab_type": "code",
    "executionInfo": {
     "elapsed": 665,
     "status": "ok",
     "timestamp": 1582748743599,
     "user": {
      "displayName": "Limeng Lu",
      "photoUrl": "https://lh3.googleusercontent.com/a-/AAuE7mCo5TzGYXCYBYK6MRlLz37TeynMuLIocNgwn2i-=s64",
      "userId": "02643143231991406731"
     },
     "user_tz": 300
    },
    "id": "IBJui3kRD-qx",
    "outputId": "a2394610-af2a-4150-9cdb-f58fc0f03a29"
   },
   "outputs": [],
   "source": [
    "def MC_int():\n",
    "    y=np.random.rand(10000)\n",
    "    a=2\n",
    "    b=5\n",
    "    z=a+(b-a)*y\n",
    "    hy=z**2*(b-a)\n",
    "    return np.mean(hy)\n",
    "\n",
    "results=[MC_int() for i in range(1000)]"
   ]
  },
  {
   "cell_type": "code",
   "execution_count": 7,
   "metadata": {},
   "outputs": [
    {
     "data": {
      "text/plain": [
       "[<matplotlib.lines.Line2D at 0x1a1eb25f10>]"
      ]
     },
     "execution_count": 7,
     "metadata": {},
     "output_type": "execute_result"
    },
    {
     "data": {
      "image/png": "[encoded data removed]",
      "text/plain": [
       "<Figure size 432x288 with 1 Axes>"
      ]
     },
     "metadata": {
      "needs_background": "light"
     },
     "output_type": "display_data"
    }
   ],
   "source": [
    "plt.hist(results,density=True,bins=30)\n",
    "x=np.linspace(np.min(results)-1,np.min(results)+2,1000)\n",
    "pdf=spst.norm.pdf(x, 39,334.8**0.5/10000**0.5)\n",
    "plt.plot(x,pdf)"
   ]
  },
  {
   "cell_type": "markdown",
   "metadata": {
    "colab_type": "text",
    "id": "Kf99hTHEI-HU"
   },
   "source": [
    "#Exercise 2 [12 Points]\n",
    "\n",
    "**Setting**\n",
    "\n",
    "In the class, we discussed one method to sample from a Binomial distribution, in which we directly use the inverse transform method to draw samples following \n",
    "\n",
    "$PMF(k)=\\frac{n!}{k!(n-k)!}p^k(1-p)^{n-k}$\n",
    "\n",
    "The search order follows $k=0$, $k=1$, $k=2$, $\\dots$ \n",
    "\n",
    "We can improve the efficiency of sampling from a Binomial distribution $(n,p)$ based on the probability of each outcome appearing."
   ]
  },
  {
   "cell_type": "markdown",
   "metadata": {
    "colab_type": "text",
    "id": "r_yd9-YYI3e4"
   },
   "source": [
    "##Q1. [8 Points]\n",
    "\n",
    "* Based on `np.sort()` and `np.argsort()`, implement a search algorithm that allows the search to start from outcome with the highest probability and ends at the outcome with the lowest probability. When generating $N$ samples, the sorting should only happen once. \n",
    "\n",
    "* Plot the distribution of the samples with $n=10$ and $p=0.4$, and $N=10000$. In the sample plot, show the corresponding theoretical distribution.\n"
   ]
  },
  {
   "cell_type": "code",
   "execution_count": 8,
   "metadata": {
    "colab": {
     "base_uri": "https://localhost:8080/",
     "height": 265
    },
    "colab_type": "code",
    "executionInfo": {
     "elapsed": 713,
     "status": "ok",
     "timestamp": 1582748750175,
     "user": {
      "displayName": "Limeng Lu",
      "photoUrl": "https://lh3.googleusercontent.com/a-/AAuE7mCo5TzGYXCYBYK6MRlLz37TeynMuLIocNgwn2i-=s64",
      "userId": "02643143231991406731"
     },
     "user_tz": 300
    },
    "id": "Uu8gftECI3er",
    "outputId": "7fd44038-4c53-497c-c037-2a94ea3b336c"
   },
   "outputs": [
    {
     "data": {
      "text/plain": [
       "<BarContainer object of 11 artists>"
      ]
     },
     "execution_count": 8,
     "metadata": {},
     "output_type": "execute_result"
    },
    {
     "data": {
      "image/png": "[encoded data removed]",
      "text/plain": [
       "<Figure size 432x288 with 1 Axes>"
      ]
     },
     "metadata": {
      "needs_background": "light"
     },
     "output_type": "display_data"
    }
   ],
   "source": [
    "def sample(n, p, N): \n",
    "    outcome=np.arange(n+1)\n",
    "    PMF=spsp.factorial(n)/spsp.factorial(outcome)/spsp.factorial(n-outcome)\n",
    "    PMF*=p**outcome*(1-p)**(n-outcome)\n",
    "    outcome_sorted=outcome[np.argsort(-PMF)]\n",
    "    PMF_sorted=-np.sort(-PMF)\n",
    "    CDF_sorted=np.cumsum(PMF_sorted)\n",
    "    samples=np.empty(N)\n",
    "    for i in range(N):\n",
    "        u=np.random.rand()\n",
    "        j=0\n",
    "        while u>=CDF_sorted[j]:\n",
    "            j+=1\n",
    "            samples[i]=outcome_sorted[j]\n",
    "    return samples\n",
    "samples=sample(n=10, p=0.4, N=10000)\n",
    "\n",
    "outcomes, counts=np.unique(samples,return_counts=True)\n",
    "plt.scatter(outcomes,counts/np.sum(counts),zorder=2)\n",
    "n=10\n",
    "p=0.4\n",
    "x=np.arange(n+1)\n",
    "\n",
    "pmf=spsp.factorial(n)/spsp.factorial(x)/spsp.factorial(n-x)\n",
    "pmf=pmf*p**x*(1-p)**(n-x)\n",
    "plt.bar(x,pmf)\n"
   ]
  },
  {
   "cell_type": "markdown",
   "metadata": {
    "colab_type": "text",
    "id": "2qijBUQNI3en"
   },
   "source": [
    "## Q2. [4 Points]\n",
    "\n",
    "* Compute the expected number of searches if we search following $k=0$, $k=1$, $\\dots$, $k=n$.\n",
    "* Compute the expected number of searches if we search based on the probability of outcomes (the algorithm implemented in Q1)."
   ]
  },
  {
   "cell_type": "code",
   "execution_count": 9,
   "metadata": {
    "colab": {
     "base_uri": "https://localhost:8080/",
     "height": 51
    },
    "colab_type": "code",
    "executionInfo": {
     "elapsed": 293,
     "status": "ok",
     "timestamp": 1582748753540,
     "user": {
      "displayName": "Limeng Lu",
      "photoUrl": "https://lh3.googleusercontent.com/a-/AAuE7mCo5TzGYXCYBYK6MRlLz37TeynMuLIocNgwn2i-=s64",
      "userId": "02643143231991406731"
     },
     "user_tz": 300
    },
    "id": "h3w7Vf5AI3eY",
    "outputId": "653f9dc0-491d-426c-b522-b4eba0ece767"
   },
   "outputs": [
    {
     "name": "stdout",
     "output_type": "stream",
     "text": [
      "4.999999999999999\n",
      "3.0171075584\n"
     ]
    }
   ],
   "source": [
    "outcome=np.arange(n+1)\n",
    "PMF=spsp.factorial(n)/spsp.factorial(outcome)/spsp.factorial(n-outcome)\n",
    "PMF*=p**outcome*(1-p)**(n-outcome)\n",
    "outcome_sorted=outcome[np.argsort(-PMF)]\n",
    "PMF_sorted=-np.sort(-PMF)\n",
    "\n",
    "#search upward\n",
    "searches=np.arange(1,n+2)\n",
    "print(np.sum(PMF*searches))\n",
    "\n",
    "#search based on probability of outcomes\n",
    "print(np.sum(PMF_sorted*searches))"
   ]
  },
  {
   "cell_type": "markdown",
   "metadata": {
    "colab_type": "text",
    "id": "TOOAEhx1wodN"
   },
   "source": [
    "#Exercise 3 [16 Points]\n",
    "**Setting**\n",
    "\n",
    "\n",
    "Since Binomial distribution is the sum of N Bernoulli trials, we can use a different method to sample from a Binomial distribution\n",
    "\n",
    "**Step 1**:  Simulate one Bernoulli trial based on the inverse transform method. This Bernoulli trial can be 0 with $1-p$ probability and 1 with $p$ probability.\n",
    "\n",
    "**Step 2**:  This the Bernoulli trial will be simulated $n$ times.\n",
    "\n",
    "**Step 3**:  The outcome will be the sum of the samples from these $n$ Bernoulli trials.\n"
   ]
  },
  {
   "cell_type": "markdown",
   "metadata": {
    "colab_type": "text",
    "id": "e-c3rmhSwrQ4"
   },
   "source": [
    "##Q1. [8 Points]\n",
    "\n",
    "* Construct a function that implements this algorithm. This function should generate one sample without using loops for given $n$ and $p$.\n",
    "* Use this function to generate 10000 samples assuming that $n=10$ and $p=0.4$. \n",
    "* Compute the sample mean and sample variance."
   ]
  },
  {
   "cell_type": "code",
   "execution_count": 10,
   "metadata": {
    "colab": {
     "base_uri": "https://localhost:8080/",
     "height": 51
    },
    "colab_type": "code",
    "executionInfo": {
     "elapsed": 300,
     "status": "ok",
     "timestamp": 1582748759768,
     "user": {
      "displayName": "Limeng Lu",
      "photoUrl": "https://lh3.googleusercontent.com/a-/AAuE7mCo5TzGYXCYBYK6MRlLz37TeynMuLIocNgwn2i-=s64",
      "userId": "02643143231991406731"
     },
     "user_tz": 300
    },
    "id": "KVI-ssIXwtn2",
    "outputId": "879ee2cc-46ab-48d2-a7c8-2c482d039760"
   },
   "outputs": [
    {
     "data": {
      "text/plain": [
       "<BarContainer object of 11 artists>"
      ]
     },
     "execution_count": 10,
     "metadata": {},
     "output_type": "execute_result"
    },
    {
     "data": {
      "image/png": "[encoded data removed]",
      "text/plain": [
       "<Figure size 432x288 with 1 Axes>"
      ]
     },
     "metadata": {
      "needs_background": "light"
     },
     "output_type": "display_data"
    }
   ],
   "source": [
    "def binom(n,p):\n",
    "    return np.sum(np.random.rand(n)<p)\n",
    "n=10\n",
    "p=0.4\n",
    "samples=[binom(n,p) for i in range(10000)]\n",
    "samples=np.array(samples)\n",
    "outcomes, counts=np.unique(samples,return_counts=True)\n",
    "plt.scatter(outcomes,counts/np.sum(counts),zorder=2)\n",
    "x=np.arange(n+1)\n",
    "pmf=spsp.factorial(n)/spsp.factorial(x)/spsp.factorial(n-x)\n",
    "pmf=pmf*p**x*(1-p)**(n-x)\n",
    "plt.bar(x,pmf)"
   ]
  },
  {
   "cell_type": "markdown",
   "metadata": {
    "colab_type": "text",
    "id": "yjbzQE9q_p5u"
   },
   "source": [
    "## Q2. [8 Points]\n",
    "\n",
    "We are usually interested in using sample mean as an estimation of the theoretical mean. \n",
    "\n",
    "* Construct a function that will generate N samples from a Binomial distribution and return the sample mean. This function should call the function you constructed in Q1.\n",
    "\n",
    "* Call the function with $N=1, N=2, N=3, N=2000$. Store the sample mean you got in each case. \n",
    "* Plot the relationship between the sample mean and corresponding N using a line plot. Also, add a horizontal line with $y$ with the theoretical mean. (check [plt.axhline()](https://matplotlib.org/3.1.3/api/_as_gen/matplotlib.pyplot.axhline.html))\n",
    "* Describe what you found from this plot."
   ]
  },
  {
   "cell_type": "code",
   "execution_count": 11,
   "metadata": {
    "colab": {
     "base_uri": "https://localhost:8080/",
     "height": 279
    },
    "colab_type": "code",
    "executionInfo": {
     "elapsed": 124197,
     "status": "ok",
     "timestamp": 1582748926795,
     "user": {
      "displayName": "Limeng Lu",
      "photoUrl": "https://lh3.googleusercontent.com/a-/AAuE7mCo5TzGYXCYBYK6MRlLz37TeynMuLIocNgwn2i-=s64",
      "userId": "02643143231991406731"
     },
     "user_tz": 300
    },
    "id": "7ZDNt2zaCs7A",
    "outputId": "3d4d10d0-0151-440e-9cba-eb50fa906f1f"
   },
   "outputs": [
    {
     "data": {
      "text/plain": [
       "<matplotlib.lines.Line2D at 0x1a1e00ac10>"
      ]
     },
     "execution_count": 11,
     "metadata": {},
     "output_type": "execute_result"
    },
    {
     "data": {
      "image/png": "[encoded data removed]",
      "text/plain": [
       "<Figure size 432x288 with 1 Axes>"
      ]
     },
     "metadata": {
      "needs_background": "light"
     },
     "output_type": "display_data"
    }
   ],
   "source": [
    "def sampling(N):\n",
    "    samples=[binom(n=10,p=0.4) for i in range(N)]\n",
    "    samples=np.array(samples)\n",
    "    return np.mean(samples)\n",
    "\n",
    "returns=[sampling(i) for i in range(1,2001)]\n",
    "plt.plot(np.arange(1,2001), np.array(returns))\n",
    "plt.axhline(y=4)\n",
    "#the sample means get closer to the theoretical mean as the number of samples increases."
   ]
  },
  {
   "cell_type": "markdown",
   "metadata": {
    "colab_type": "text",
    "id": "oyoNkjs90qb5"
   },
   "source": [
    "#Exercise 4 [12 Points]\n",
    "**Setting**\n",
    "\n",
    "The Yule-Simon distribution (or Yule distribution) is a highly skewed discrete probability distribution. It is commonly used in analyzing the frequency data. \n",
    "\n",
    "The PMF of this distribution follows\n",
    "\n",
    "$P(k)=\\rho \\frac{\\Gamma(\\rho+1)\\Gamma(k)}{\\Gamma(x+\\rho+1)} , \\text{where } \\; k=1, 2, \\dots, \\infty $\n",
    "\n",
    "In the PMF function, $\\Gamma(z)$ is a function called gamma function. $\\Gamma(z)$ can be computed using scipy.special.gamma(z).\n",
    "\n",
    "For this distribution, $E(k)=\\frac{\\rho}{\\rho-1}$ and $Var(k)=\\frac{\\rho^2}{(\\rho-1)^2(\\rho-2)}$, if $\\rho>1$.\n",
    "\n"
   ]
  },
  {
   "cell_type": "markdown",
   "metadata": {
    "colab_type": "text",
    "id": "AAE2hVmWZHyc"
   },
   "source": [
    "##Q1. [12 Points]\n",
    "\n",
    "Assume that $\\rho=3$. \n",
    "\n",
    "\n",
    "\n",
    "* Generate 10000 samples from this distribution based upward search. Start the search from $x=1$. When updating the PMF, using the iterative approach (based on $PMF(x)/PMF(x-1)$). Notice that $\\Gamma(z)=(z-1)!$ when $z$ is an integer.\n",
    "\n",
    "* Visualize the sample distribution and the theoretical distribution.  \n",
    "\n",
    "* Based on the samples generated, compute the sample mean and sample variance. Compare the value with the theoretical mean and theoretical samples.\n",
    "\n",
    "* For this algorithm, what is the expected number of searches?"
   ]
  },
  {
   "cell_type": "code",
   "execution_count": 12,
   "metadata": {
    "colab": {
     "base_uri": "https://localhost:8080/",
     "height": 350
    },
    "colab_type": "code",
    "executionInfo": {
     "elapsed": 1298,
     "status": "ok",
     "timestamp": 1582748628769,
     "user": {
      "displayName": "Limeng Lu",
      "photoUrl": "https://lh3.googleusercontent.com/a-/AAuE7mCo5TzGYXCYBYK6MRlLz37TeynMuLIocNgwn2i-=s64",
      "userId": "02643143231991406731"
     },
     "user_tz": 300
    },
    "id": "dQMDD3-VFZYU",
    "outputId": "f9a815bf-41de-43a5-fa61-dd91d4e31ea6"
   },
   "outputs": [
    {
     "data": {
      "text/plain": [
       "<BarContainer object of 121 artists>"
      ]
     },
     "execution_count": 12,
     "metadata": {},
     "output_type": "execute_result"
    },
    {
     "data": {
      "image/png": "[encoded data removed]",
      "text/plain": [
       "<Figure size 432x288 with 1 Axes>"
      ]
     },
     "metadata": {
      "needs_background": "light"
     },
     "output_type": "display_data"
    }
   ],
   "source": [
    "def onesample():\n",
    "    x=1\n",
    "    rho=3\n",
    "    PMF=rho*spsp.factorial(rho)*spsp.factorial(x-1)/spsp.factorial(x+rho)\n",
    "    CDF=PMF\n",
    "    u=np.random.rand()\n",
    "    while u>=CDF:\n",
    "        x=x+1\n",
    "        PMF=PMF*(x-1)/(x+rho)\n",
    "        CDF=CDF+PMF\n",
    "    return x\n",
    "samples=[onesample() for i in range(10000)]\n",
    "samples=np.array(samples)\n",
    "rho=3\n",
    "outcomes, counts=np.unique(samples,return_counts=True)\n",
    "plt.scatter(outcomes,counts/np.sum(counts),zorder=2)\n",
    "x=np.arange(np.max(outcomes)+1)\n",
    "pmf=rho*spsp.factorial(rho)*spsp.factorial(x-1)/spsp.factorial(x+rho)\n",
    "plt.bar(x,pmf)\n",
    "\n"
   ]
  },
  {
   "cell_type": "code",
   "execution_count": 13,
   "metadata": {
    "colab": {},
    "colab_type": "code",
    "id": "FtfZI_VgzR2Y"
   },
   "outputs": [
    {
     "name": "stdout",
     "output_type": "stream",
     "text": [
      "samples:\n",
      "1.4919 3.10684507450745\n",
      "theoretical:\n",
      "1.5 2.25\n"
     ]
    }
   ],
   "source": [
    "print(\"samples:\")\n",
    "print(np.mean(samples),np.var(samples,ddof=1))\n",
    "\n",
    "print(\"theoretical:\")\n",
    "print(rho/(rho-1),rho**2/(rho-1)**1/(rho-1))\n",
    "\n",
    "#the sample mean is very close to the theoretical mean.\n",
    "#the sample var has a large variation from the mean"
   ]
  },
  {
   "cell_type": "code",
   "execution_count": null,
   "metadata": {},
   "outputs": [],
   "source": []
  }
 ],
 "metadata": {
  "colab": {
   "collapsed_sections": [],
   "name": "Limeng Lu - HW3 (IEOR 4404 Spring 2020).ipynb",
   "provenance": [
    {
     "file_id": "1jULEGgQCgS_ZS7O7gEqAj1lyuVW3A3vX",
     "timestamp": 1582347081782
    },
    {
     "file_id": "1R0Pm0WvXSWL9lKBdQJ7o4_FsMQNmVHCE",
     "timestamp": 1582173798888
    },
    {
     "file_id": "1o8jgSTSbdEf2c5bG4ODkeTNniydppG1D",
     "timestamp": 1581553330877
    },
    {
     "file_id": "1B3RiAwjISQ07z9mhF2fVNXeqmGsSaSXF",
     "timestamp": 1581482813040
    },
    {
     "file_id": "11dVE9rH0HaiA-vB_-QjbuDjYpd_F6xcp",
     "timestamp": 1580693393623
    },
    {
     "file_id": "1rSHqixCBUKORQHvHU3DKZmKEVclX65AX",
     "timestamp": 1573914583811
    },
    {
     "file_id": "1D_sI569hbsIkkPgyXmrwZnlz4Sk0r2EM",
     "timestamp": 1573683865121
    },
    {
     "file_id": "1KAQlY-b_5oTYAr2HqQm9gVy4UYwejk8w",
     "timestamp": 1573236060279
    },
    {
     "file_id": "1RAnoHD0pJ2hcpKoJH2MEDqFiN9P894XB",
     "timestamp": 1572752481047
    },
    {
     "file_id": "1d90xTvbs1HvPh5e5OWCWS2zb0aGawsUj",
     "timestamp": 1572747469532
    },
    {
     "file_id": "114Di_mbQAakdYMmzSq0QZdQi37dvCGlh",
     "timestamp": 1554755164840
    },
    {
     "file_id": "1rdwhuqgvFprHNMfLZrsZuuR7n_LtJ-2J",
     "timestamp": 1553825647633
    },
    {
     "file_id": "1JCSp6qEW5_aKWiT5cDoBJCYomWWZ7HHj",
     "timestamp": 1553783786349
    },
    {
     "file_id": "1QAwczu2Htj70o-gz0SNv9khVKhm-c9Nx",
     "timestamp": 1539964737693
    }
   ]
  },
  "kernelspec": {
   "display_name": "Python 3",
   "language": "python",
   "name": "python3"
  },
  "language_info": {
   "codemirror_mode": {
    "name": "ipython",
    "version": 3
   },
   "file_extension": ".py",
   "mimetype": "text/x-python",
   "name": "python",
   "nbconvert_exporter": "python",
   "pygments_lexer": "ipython3",
   "version": "3.7.6"
  }
 },
 "nbformat": 4,
 "nbformat_minor": 1
}
