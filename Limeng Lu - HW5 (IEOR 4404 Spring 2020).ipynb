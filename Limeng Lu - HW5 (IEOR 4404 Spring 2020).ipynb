{
 "cells": [
  {
   "cell_type": "markdown",
   "metadata": {
    "colab_type": "text",
    "id": "DyUm7MGOiGkN"
   },
   "source": [
    "# **IEOR 4404  Simulation (Spring 2020)**\n",
    "\n",
    "**Homework 5 [Total points: 60]**\n",
    "\n",
    "\n",
    "**Due 11:59 PM, April 8**\n",
    "\n",
    "Homework 5 consists of application-oriented exercises focusing on\n",
    "\n",
    "* Application of simulations\n",
    "* Composition method\n",
    "* Homogeneous Poisson process\n",
    " \n",
    "\n",
    "The steps to finish the homework:\n",
    "\n",
    "*   Step 1: Answer your homework on Google Colab.\n",
    "*   Step 2: Submit the copy on Google Assignment\n",
    "\n",
    "Before you submit your assignment, make sure to re-run your code from the beginning. (You can do so by first clicking Runtime/Reset All Runtimes and then clicking Runtime/Run all)"
   ]
  },
  {
   "cell_type": "code",
   "execution_count": 1,
   "metadata": {
    "colab": {},
    "colab_type": "code",
    "id": "QAa2VwXwiWMZ"
   },
   "outputs": [],
   "source": [
    "#Your Name: Limeng Lu\n",
    "#Your UNI: ll3359"
   ]
  },
  {
   "cell_type": "code",
   "execution_count": 2,
   "metadata": {
    "colab": {},
    "colab_type": "code",
    "id": "7EyI11SeiXGt"
   },
   "outputs": [],
   "source": [
    "#This imports all the packages you need for the homework (you might not use some of them)\n",
    "#Please run this first\n",
    "import numpy as np\n",
    "\n",
    "import scipy.special as spsp\n",
    "\n",
    "import scipy.stats as spst\n",
    "\n",
    "import matplotlib.pyplot as plt\n",
    "\n",
    "%matplotlib inline\n"
   ]
  },
  {
   "cell_type": "markdown",
   "metadata": {
    "colab_type": "text",
    "id": "xQgTsRoj2lUE"
   },
   "source": [
    "\n",
    "<img src=\"https://www.pittsburghmagazine.com/content/uploads/2020/03/Screen-Shot-2020-03-25-at-10.53.08-AM.png\" alt=\"Munch\" width=\"300\" />"
   ]
  },
  {
   "cell_type": "markdown",
   "metadata": {
    "colab_type": "text",
    "id": "Kf99hTHEI-HU"
   },
   "source": [
    "#Exercise 1 [44 Points]\n",
    "\n",
    "**Setting**\n",
    "\n",
    "The Geometric distribution is often used to model the number of independent and identical Bernoulli trials needed to get the first success.\n",
    "\n",
    "The PMF of a Geometrics distibution follows:\n",
    "$PMF(x)=(1-p)^{x-1}p$, where $x=1, 2, 3, ...$\n",
    "\n",
    "For this exercise, let's discuss an application of simulation based on this Geometric distribution.\n",
    "\n",
    "Context:\n",
    "\n",
    "To target a group of new users, a company decides to send out advertisements to the customers. They would like to assume that each advertisement has a probability of $p$ of converting a new customer to a regular buyer. They are interested in simulating the number of advertisements needed to make the conversions happen.\n",
    "\n"
   ]
  },
  {
   "cell_type": "markdown",
   "metadata": {
    "colab_type": "text",
    "id": "2qijBUQNI3en"
   },
   "source": [
    "## Q1. [10 Points]\n",
    "\n",
    "Let's assume that the conversion probability per advertisement is 0.1, the company is trying to target 2000 customers and make them all converted. That is, the company will keep on sending out advertisements to a customer until the customer becomes a regular customer.\n",
    "\n",
    "\n",
    "* Generate the number of advertisements needed for each conversion. \n",
    "* Visualize the distribution of the 2000 samples collected.\n",
    "* Repeat the simulation for 1000 rounds. Plot the distribution of the total number of advertisements needed for 2000 conversions.\n",
    "\n"
   ]
  },
  {
   "cell_type": "code",
   "execution_count": 3,
   "metadata": {
    "colab": {
     "base_uri": "https://localhost:8080/",
     "height": 265
    },
    "colab_type": "code",
    "executionInfo": {
     "elapsed": 786,
     "status": "ok",
     "timestamp": 1586033514900,
     "user": {
      "displayName": "Limeng Lu",
      "photoUrl": "https://lh3.googleusercontent.com/a-/AOh14Gh8ZX4rW7rsrXhvavP0LJmodTwwuT2bd8fm3kyu=s64",
      "userId": "02643143231991406731"
     },
     "user_tz": 420
    },
    "id": "h3w7Vf5AI3eY",
    "outputId": "1d54ed84-54a1-4058-e07a-0c629a1127ad"
   },
   "outputs": [
    {
     "data": {
      "text/plain": [
       "<BarContainer object of 61 artists>"
      ]
     },
     "execution_count": 3,
     "metadata": {},
     "output_type": "execute_result"
    },
    {
     "data": {
      "image/png": "[encoded data removed]",
      "text/plain": [
       "<Figure size 432x288 with 1 Axes>"
      ]
     },
     "metadata": {
      "needs_background": "light"
     },
     "output_type": "display_data"
    }
   ],
   "source": [
    "def simulation():\n",
    "  u=np.random.rand(2000)\n",
    "  p=0.1\n",
    "  samples=1+np.floor((np.log(u)/np.log(1-p)))\n",
    "  return samples\n",
    "#plot the distribution of the number of advertisements needed\n",
    "values,counts=np.unique(simulation(),return_counts=True)\n",
    "plt.bar(values,counts/np.sum(counts))"
   ]
  },
  {
   "cell_type": "code",
   "execution_count": 4,
   "metadata": {
    "colab": {
     "base_uri": "https://localhost:8080/",
     "height": 265
    },
    "colab_type": "code",
    "executionInfo": {
     "elapsed": 1293,
     "status": "ok",
     "timestamp": 1586033517313,
     "user": {
      "displayName": "Limeng Lu",
      "photoUrl": "https://lh3.googleusercontent.com/a-/AOh14Gh8ZX4rW7rsrXhvavP0LJmodTwwuT2bd8fm3kyu=s64",
      "userId": "02643143231991406731"
     },
     "user_tz": 420
    },
    "id": "q1rpHY0XsgCc",
    "outputId": "b5e39643-b1af-4a79-c7f8-454d81de7279"
   },
   "outputs": [
    {
     "data": {
      "image/png": "[encoded data removed]",
      "text/plain": [
       "<Figure size 432x288 with 1 Axes>"
      ]
     },
     "metadata": {
      "needs_background": "light"
     },
     "output_type": "display_data"
    }
   ],
   "source": [
    "total_Ads=np.array([np.sum(simulation()) for i in range(1000)])\n",
    "plt.hist(total_Ads,bins=30,density=True)\n",
    "plt.show()"
   ]
  },
  {
   "cell_type": "markdown",
   "metadata": {
    "colab_type": "text",
    "id": "OFJnLMepxHT9"
   },
   "source": [
    "## Q2 [10 Points]\n",
    "\n",
    "The company wants to assume that the consumers can be split into 3 segments\n",
    "\n",
    "> * Segment 1: the conversion probability of each advertisement is 0.05. A consumer belongs to this segment with probability= 0.25\n",
    "> * Segment 2: the conversion probability of each advertisement is 0.1. A consumer belongs to this segment with probability= 0.5\n",
    "> * Segment 3: the conversion probability of each advertisement is 0.15. A consumer belongs to this segment with probability= 0.25\n",
    "\n",
    "Again, let's work on 2000 randomly selected customers.\n",
    "\n",
    "* Generate the number of advertisement needed for each conversion. \n",
    "* Visualize the distribution of the 2000 samples collected.\n",
    "* Repeat the simulation 1000 rounds. Plot the distribution of the total number of advertisements needed for 2000 conversions.\n",
    "\n"
   ]
  },
  {
   "cell_type": "code",
   "execution_count": 5,
   "metadata": {
    "colab": {
     "base_uri": "https://localhost:8080/",
     "height": 265
    },
    "colab_type": "code",
    "executionInfo": {
     "elapsed": 730,
     "status": "ok",
     "timestamp": 1586033548538,
     "user": {
      "displayName": "Limeng Lu",
      "photoUrl": "https://lh3.googleusercontent.com/a-/AOh14Gh8ZX4rW7rsrXhvavP0LJmodTwwuT2bd8fm3kyu=s64",
      "userId": "02643143231991406731"
     },
     "user_tz": 420
    },
    "id": "OuPaSHnay2uL",
    "outputId": "daae640d-1630-4ffc-c935-3bca09e7b4c0"
   },
   "outputs": [
    {
     "data": {
      "text/plain": [
       "<BarContainer object of 73 artists>"
      ]
     },
     "execution_count": 5,
     "metadata": {},
     "output_type": "execute_result"
    },
    {
     "data": {
      "image/png": "[encoded data removed]",
      "text/plain": [
       "<Figure size 432x288 with 1 Axes>"
      ]
     },
     "metadata": {
      "needs_background": "light"
     },
     "output_type": "display_data"
    }
   ],
   "source": [
    "def simulation():\n",
    "  #generate 2000 probabilities \n",
    "  u=np.random.rand(2000)\n",
    "  p=0.1*(u<0.5)+0.05*(u>=0.5)*(u<0.75)+0.15*(u>=0.75)\n",
    "  #generate the 2000 samples at the same time \n",
    "  samples=1+np.floor((np.log(np.random.rand(2000))/np.log(1-p)))\n",
    "  return samples\n",
    "\n",
    "values,counts=np.unique(simulation(),return_counts=True)\n",
    "plt.bar(values,counts/np.sum(counts))"
   ]
  },
  {
   "cell_type": "code",
   "execution_count": 6,
   "metadata": {
    "colab": {
     "base_uri": "https://localhost:8080/",
     "height": 265
    },
    "colab_type": "code",
    "executionInfo": {
     "elapsed": 3821,
     "status": "ok",
     "timestamp": 1586033591034,
     "user": {
      "displayName": "Limeng Lu",
      "photoUrl": "https://lh3.googleusercontent.com/a-/AOh14Gh8ZX4rW7rsrXhvavP0LJmodTwwuT2bd8fm3kyu=s64",
      "userId": "02643143231991406731"
     },
     "user_tz": 420
    },
    "id": "tOPBzwwAJxM9",
    "outputId": "30b841bf-ff0f-4497-bc3d-f713bcfd9745"
   },
   "outputs": [
    {
     "data": {
      "image/png": "[encoded data removed]",
      "text/plain": [
       "<Figure size 432x288 with 1 Axes>"
      ]
     },
     "metadata": {
      "needs_background": "light"
     },
     "output_type": "display_data"
    }
   ],
   "source": [
    "total_Ads=np.array([np.sum(simulation()) for i in range(1000)])\n",
    "plt.hist(total_Ads,bins=30,density=True)\n",
    "plt.show()"
   ]
  },
  {
   "cell_type": "markdown",
   "metadata": {
    "colab_type": "text",
    "id": "eopF6svXWrnk"
   },
   "source": [
    "##Q3 [12 Points]\n",
    "\n",
    "The company is doing the following:\n",
    "\n",
    "They will start sending out advertisements to 2000 random customers. However, if a customer still has not been converted after $N$ advertisements, the company will stop sending advertisements to this customer and start sending out advertisements to a random new customer. The company will follow this process until it achieves 2000 conversions. In this way, the company might need to reach out to more than 2000 customers.\n",
    "\n",
    "* Assuming $N=10$, generate the number of advertisement needed for each **converted** customer.\n",
    "* Visualize the distribution of the 2000 samples collected.\n",
    "* Repeat the simulation 1000 rounds. Plot the distribution of the following:\n",
    "> 1.  the total number of advertisements (including those sent out on the unsuccessful ones) needed to get 2000 conversions.\n",
    "> 2.  the total number of customers needed to be reached out."
   ]
  },
  {
   "cell_type": "code",
   "execution_count": 7,
   "metadata": {
    "colab": {
     "base_uri": "https://localhost:8080/",
     "height": 265
    },
    "colab_type": "code",
    "executionInfo": {
     "elapsed": 1230,
     "status": "ok",
     "timestamp": 1586138902412,
     "user": {
      "displayName": "Limeng Lu",
      "photoUrl": "https://lh3.googleusercontent.com/a-/AOh14Gh8ZX4rW7rsrXhvavP0LJmodTwwuT2bd8fm3kyu=s64",
      "userId": "02643143231991406731"
     },
     "user_tz": 420
    },
    "id": "jZUBtccRk3s6",
    "outputId": "dd5c32eb-9497-414f-c310-797f2718350a"
   },
   "outputs": [
    {
     "data": {
      "text/plain": [
       "<BarContainer object of 10 artists>"
      ]
     },
     "execution_count": 7,
     "metadata": {},
     "output_type": "execute_result"
    },
    {
     "data": {
      "image/png": "[encoded data removed]",
      "text/plain": [
       "<Figure size 432x288 with 1 Axes>"
      ]
     },
     "metadata": {
      "needs_background": "light"
     },
     "output_type": "display_data"
    }
   ],
   "source": [
    "def simulation():\n",
    "  size=0\n",
    "  #total number of ads sent out\n",
    "  totalA=0\n",
    "  #total number of customres reached out \n",
    "  totalC=0\n",
    "  N=10\n",
    "  ad_convert=np.empty(2000)\n",
    "  while (size<2000):\n",
    "    #sending out advertisements to additional 2000-size customers, if 2000-size number of conversions is needed\n",
    "    x=np.random.rand(2000-size)\n",
    "    p=(x<0.5)*0.1+(x>=0.5)*(x<0.75)*0.05+(x>=0.75)*0.15\n",
    "    u=np.random.rand(2000-size)\n",
    "    ad_needed=1+np.floor(np.log(u)/np.log(1-p))\n",
    "    #additional converted customers\n",
    "    new_converted=ad_needed<=N\n",
    "    new_size=size+np.sum(new_converted)\n",
    "    #record number of ads for converted customers\n",
    "    ad_convert[size:new_size]=ad_needed[new_converted]\n",
    "    size=new_size\n",
    "    \n",
    "    totalC+=len(ad_needed)\n",
    "    totalA+=np.sum(ad_needed[ad_needed<=N])+N*np.sum(ad_needed>N)\n",
    "  return ad_convert,totalA,totalC\n",
    "\n",
    "values,counts=np.unique(simulation()[0],return_counts=True)\n",
    "plt.bar(values,counts/np.sum(counts))"
   ]
  },
  {
   "cell_type": "code",
   "execution_count": 8,
   "metadata": {
    "colab": {
     "base_uri": "https://localhost:8080/",
     "height": 513
    },
    "colab_type": "code",
    "executionInfo": {
     "elapsed": 21936,
     "status": "ok",
     "timestamp": 1586181406288,
     "user": {
      "displayName": "Limeng Lu",
      "photoUrl": "https://lh3.googleusercontent.com/a-/AOh14Gh8ZX4rW7rsrXhvavP0LJmodTwwuT2bd8fm3kyu=s64",
      "userId": "02643143231991406731"
     },
     "user_tz": 420
    },
    "id": "bN8grhx4nvLH",
    "outputId": "4bc32794-134a-4379-eb34-a4af80734ba5"
   },
   "outputs": [
    {
     "data": {
      "image/png": "[encoded data removed]",
      "text/plain": [
       "<Figure size 432x288 with 1 Axes>"
      ]
     },
     "metadata": {
      "needs_background": "light"
     },
     "output_type": "display_data"
    },
    {
     "data": {
      "image/png": "[encoded data removed]",
      "text/plain": [
       "<Figure size 432x288 with 1 Axes>"
      ]
     },
     "metadata": {
      "needs_background": "light"
     },
     "output_type": "display_data"
    }
   ],
   "source": [
    "returns=np.array([simulation()[1:3] for i in range(1000)])\n",
    "plt.hist(returns[:,0],density=True,bins=30)\n",
    "plt.show()\n",
    "plt.hist(returns[:,1],density=True,bins=30)\n",
    "plt.show()"
   ]
  },
  {
   "cell_type": "markdown",
   "metadata": {
    "colab_type": "text",
    "id": "iqzdQQO5VnkD"
   },
   "source": [
    "##Q4 [12 Points]\n",
    "\n",
    "Assume that the first advertisement sent to a customer costs 1.3 dollars, every additional advertisement to this customer costs 1 dollar.\n",
    "\n",
    "The company wants to choose the best value for $N$ in Q3 to minimize the expected value of expenditure. We can estimate th expected value based on the sample mean based on 500 rounds of simulation.\n",
    "\n",
    "* Help the company determine the best value of $N$\n"
   ]
  },
  {
   "cell_type": "code",
   "execution_count": 9,
   "metadata": {
    "colab": {},
    "colab_type": "code",
    "id": "5FkbZ18fWQNp"
   },
   "outputs": [
    {
     "data": {
      "text/plain": [
       "[<matplotlib.lines.Line2D at 0x1a17119e90>]"
      ]
     },
     "execution_count": 9,
     "metadata": {},
     "output_type": "execute_result"
    },
    {
     "data": {
      "image/png": "[encoded data removed]",
      "text/plain": [
       "<Figure size 432x288 with 1 Axes>"
      ]
     },
     "metadata": {
      "needs_background": "light"
     },
     "output_type": "display_data"
    }
   ],
   "source": [
    "def sample(N):\n",
    "  size=0\n",
    "  totalA=0\n",
    "  totalC=0\n",
    "  while (size<2000):\n",
    "    New=2000-size\n",
    "    u=np.random.rand(New)\n",
    "    x=np.random.rand(New)\n",
    "    p=np.repeat(0.1,New)\n",
    "    p[x<0.25]=0.05\n",
    "    p[x>=0.75]=0.15 \n",
    "    ad_needed=1+np.floor(np.log(u)/np.log(1-p))\n",
    "    totalC+=New\n",
    "    converted=(ad_needed<=N)\n",
    "    size+=np.sum(converted)\n",
    "    totalA+=np.sum(ad_needed[converted])+N*np.sum(~converted)\n",
    "  return totalC*1.3+(totalA-totalC)*1\n",
    "\n",
    "total_expenditures = np.array([sample(N) for N in range(1,21) for i in range(500)]).reshape(20,500).mean(axis=1)\n",
    "plt.plot(range(1,21),total_expenditures,marker=\"o\")"
   ]
  },
  {
   "cell_type": "code",
   "execution_count": 10,
   "metadata": {
    "colab": {},
    "colab_type": "code",
    "id": "Aoukxs0iZb5v"
   },
   "outputs": [
    {
     "data": {
      "text/plain": [
       "7"
      ]
     },
     "execution_count": 10,
     "metadata": {},
     "output_type": "execute_result"
    }
   ],
   "source": [
    "np.argmin(total_expenditures)+1"
   ]
  },
  {
   "cell_type": "markdown",
   "metadata": {
    "colab_type": "text",
    "id": "sZg8cqbA8Fi2"
   },
   "source": [
    "#Exercise 2 [16 Points]\n",
    "\n",
    "**Setting**\n",
    "\n",
    "Let's explore the application of a homogeneous Poisson process.\n"
   ]
  },
  {
   "cell_type": "markdown",
   "metadata": {
    "colab_type": "text",
    "id": "Xw09Qc4w8yOF"
   },
   "source": [
    "##Q1. [10 Points]\n",
    "\n",
    "Assume that the arrival of customers follows a homogeneous Poisson process with $\\lambda=1$. For every arrival, there is a probability of 0.25 that the customer makes no purchase. There is a probability of 0.75 that the number of items bought by a customer follows a Poisson distribution with $\\lambda=2t$, where $t$ is the arrival time of the customer.\n",
    "\n",
    "* Run the simulation from t=0 to t=20 and generate the number of purchases made by each customer.\n",
    "* Plot the total sales over time using line plot with marker=\"o\". Each marker represents the total sales upon the arrival. The $x$ value should be the arrival time, and $y$ should give the total number of sales made from time 0 up to this point (including the sales generated from the current customer).\n"
   ]
  },
  {
   "cell_type": "code",
   "execution_count": 11,
   "metadata": {
    "colab": {
     "base_uri": "https://localhost:8080/",
     "height": 51
    },
    "colab_type": "code",
    "executionInfo": {
     "elapsed": 569,
     "status": "ok",
     "timestamp": 1585985946658,
     "user": {
      "displayName": "Limeng Lu",
      "photoUrl": "https://lh3.googleusercontent.com/a-/AOh14Gh8ZX4rW7rsrXhvavP0LJmodTwwuT2bd8fm3kyu=s64",
      "userId": "02643143231991406731"
     },
     "user_tz": 420
    },
    "id": "sLsAV74n-T7h",
    "outputId": "af91703e-3fe6-4997-e499-b2c1f9a9f3bf"
   },
   "outputs": [
    {
     "name": "stdout",
     "output_type": "stream",
     "text": [
      "15\n"
     ]
    },
    {
     "data": {
      "image/png": "[encoded data removed]",
      "text/plain": [
       "<Figure size 432x288 with 1 Axes>"
      ]
     },
     "metadata": {
      "needs_background": "light"
     },
     "output_type": "display_data"
    }
   ],
   "source": [
    "Narrival=np.random.poisson(20)\n",
    "Arrival_times=np.sort(np.random.rand(Narrival)*20)\n",
    "purchase=np.random.rand(Narrival)<0.75\n",
    "purchase_counts=np.repeat(0,Narrival)\n",
    "purchase_counts[purchase]=np.random.poisson(2*Arrival_times[purchase])\n",
    "plt.plot(Arrival_times,np.cumsum(purchase_counts),marker=\"o\")\n",
    "\n",
    "print(Narrival)"
   ]
  },
  {
   "cell_type": "markdown",
   "metadata": {
    "colab_type": "text",
    "id": "s6-BGvnE1uhK"
   },
   "source": [
    "##Q2. [6 Points]\n",
    "\n",
    "The company wants to determine an optimal stock level at time 0 to ensure that they will have enough stock at t=20 at least 95% of the time. Based on simulating 10000 rounds, help them determine the stock level. "
   ]
  },
  {
   "cell_type": "code",
   "execution_count": 12,
   "metadata": {
    "colab": {
     "base_uri": "https://localhost:8080/",
     "height": 34
    },
    "colab_type": "code",
    "executionInfo": {
     "elapsed": 4039,
     "status": "ok",
     "timestamp": 1586127717105,
     "user": {
      "displayName": "Limeng Lu",
      "photoUrl": "https://lh3.googleusercontent.com/a-/AOh14Gh8ZX4rW7rsrXhvavP0LJmodTwwuT2bd8fm3kyu=s64",
      "userId": "02643143231991406731"
     },
     "user_tz": 420
    },
    "id": "6301y-K2-TeD",
    "outputId": "ea197e7e-55e0-4da7-80db-99863eab5fb3"
   },
   "outputs": [
    {
     "data": {
      "text/plain": [
       "459.0"
      ]
     },
     "execution_count": 12,
     "metadata": {},
     "output_type": "execute_result"
    }
   ],
   "source": [
    "def system():\n",
    "  #number of arrivals\n",
    "  Narrival=np.random.poisson(20)\n",
    "  #generate the arrival times\n",
    "  Arrival_times= np.random.rand(Narrival)*20 \n",
    "  #determine which customers make purchases\n",
    "  purchase=np.random.rand(Narrival)<0.75\n",
    "  #for those purchase occasions, generate the number of purchases\n",
    "  purchase_counts=np.random.poisson(2*Arrival_times[purchase])\n",
    "  #return the total number of\n",
    "  return np.sum(purchase_counts)\n",
    "\n",
    "np.percentile([system() for i in range(10000)],95)\n",
    "\n"
   ]
  },
  {
   "cell_type": "code",
   "execution_count": 0,
   "metadata": {
    "colab": {},
    "colab_type": "code",
    "id": "G-QTMew53KlL"
   },
   "outputs": [],
   "source": []
  }
 ],
 "metadata": {
  "colab": {
   "collapsed_sections": [],
   "name": "Limeng Lu - HW5 (IEOR 4404 Spring 2020).ipynb",
   "provenance": [
    {
     "file_id": "1PR9bNFbeAGF2Prz7lJyfVEff5B3VyHq5",
     "timestamp": 1585798514795
    },
    {
     "file_id": "1Vo-R40BBzV9Iuge_GT9_lN6vDiQzcUuW",
     "timestamp": 1585797138795
    },
    {
     "file_id": "14UPc_AMS7xm_qmPUX32AJnM5e8HDoAg4",
     "timestamp": 1585344449686
    },
    {
     "file_id": "1Qq9gNnN2w6VGty-vC7VYYZe-pu81hGQq",
     "timestamp": 1584584555559
    },
    {
     "file_id": "12pSxOtpYBGQKpYrLDVl8wRTaos_xhey5",
     "timestamp": 1583127639815
    },
    {
     "file_id": "1WEv7bVsx9eA-439gwyz6AajBp9kr9Y21",
     "timestamp": 1583126574930
    },
    {
     "file_id": "1jULEGgQCgS_ZS7O7gEqAj1lyuVW3A3vX",
     "timestamp": 1583111185804
    },
    {
     "file_id": "1R0Pm0WvXSWL9lKBdQJ7o4_FsMQNmVHCE",
     "timestamp": 1582173798888
    },
    {
     "file_id": "1o8jgSTSbdEf2c5bG4ODkeTNniydppG1D",
     "timestamp": 1581553330877
    },
    {
     "file_id": "1B3RiAwjISQ07z9mhF2fVNXeqmGsSaSXF",
     "timestamp": 1581482813040
    },
    {
     "file_id": "11dVE9rH0HaiA-vB_-QjbuDjYpd_F6xcp",
     "timestamp": 1580693393623
    },
    {
     "file_id": "1rSHqixCBUKORQHvHU3DKZmKEVclX65AX",
     "timestamp": 1573914583811
    },
    {
     "file_id": "1D_sI569hbsIkkPgyXmrwZnlz4Sk0r2EM",
     "timestamp": 1573683865121
    },
    {
     "file_id": "1KAQlY-b_5oTYAr2HqQm9gVy4UYwejk8w",
     "timestamp": 1573236060279
    },
    {
     "file_id": "1RAnoHD0pJ2hcpKoJH2MEDqFiN9P894XB",
     "timestamp": 1572752481047
    },
    {
     "file_id": "1d90xTvbs1HvPh5e5OWCWS2zb0aGawsUj",
     "timestamp": 1572747469532
    },
    {
     "file_id": "114Di_mbQAakdYMmzSq0QZdQi37dvCGlh",
     "timestamp": 1554755164840
    },
    {
     "file_id": "1rdwhuqgvFprHNMfLZrsZuuR7n_LtJ-2J",
     "timestamp": 1553825647633
    },
    {
     "file_id": "1JCSp6qEW5_aKWiT5cDoBJCYomWWZ7HHj",
     "timestamp": 1553783786349
    },
    {
     "file_id": "1QAwczu2Htj70o-gz0SNv9khVKhm-c9Nx",
     "timestamp": 1539964737693
    }
   ]
  },
  "kernelspec": {
   "display_name": "Python 3",
   "language": "python",
   "name": "python3"
  },
  "language_info": {
   "codemirror_mode": {
    "name": "ipython",
    "version": 3
   },
   "file_extension": ".py",
   "mimetype": "text/x-python",
   "name": "python",
   "nbconvert_exporter": "python",
   "pygments_lexer": "ipython3",
   "version": "3.7.6"
  }
 },
 "nbformat": 4,
 "nbformat_minor": 1
}
