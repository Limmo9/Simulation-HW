{
 "cells": [
  {
   "cell_type": "markdown",
   "metadata": {
    "colab_type": "text",
    "id": "DyUm7MGOiGkN"
   },
   "source": [
    "# **IEOR 4404  Simulation (Spring 2020)**\n",
    "\n",
    "**Homework 4 [Total points: 60]**\n",
    "\n",
    "\n",
    "**Due 11:59 PM, March 9**\n",
    "\n",
    "Homework 4 consists of application-oriented exercises focusing on\n",
    "\n",
    "* Sampling from a discrete distribution using the inverse transform method\n",
    "* Sampling from a discrete distribution using the rejection sampling method\n",
    "* Sampling from a continuous distribution using the inverse transform method\n",
    " \n",
    "\n",
    "The steps to finish the homework:\n",
    "\n",
    "*   Step 1: Answer your homework on Google Colab.\n",
    "*   Step 2: Submit the copy on Google Assignment\n",
    "\n",
    "Before you submit your assignment, make sure to re-run your code from the beginning. (You can do so by first clicking Runtime/Reset All Runtimes and then clicking Runtime/Run all)"
   ]
  },
  {
   "cell_type": "code",
   "execution_count": 3,
   "metadata": {
    "colab": {},
    "colab_type": "code",
    "id": "QAa2VwXwiWMZ"
   },
   "outputs": [],
   "source": [
    "#Your Name: Limeng Lu\n",
    "#Your UNI: ll3359"
   ]
  },
  {
   "cell_type": "code",
   "execution_count": 4,
   "metadata": {
    "colab": {},
    "colab_type": "code",
    "id": "7EyI11SeiXGt"
   },
   "outputs": [],
   "source": [
    "#This imports all the packages you need for the homework (you might not use some of them)\n",
    "#Please run this first\n",
    "import numpy as np\n",
    "\n",
    "import scipy.special as spsp\n",
    "\n",
    "import scipy.stats as spst\n",
    "\n",
    "import matplotlib.pyplot as plt\n",
    "\n",
    "%matplotlib inline\n"
   ]
  },
  {
   "cell_type": "markdown",
   "metadata": {
    "colab_type": "text",
    "id": "Kf99hTHEI-HU"
   },
   "source": [
    "#Exercise 1 [16 Points]\n",
    "\n",
    "**Setting**\n",
    "\n",
    "Let's again, focus on sampling from Binomial distribution\n",
    "\n",
    "$PMF(k)=\\frac{n!}{k!(n-k)!}p^k(1-p)^{n-k}$\n",
    "\n",
    "Let's assume $n=10$ and $p=0.4$.\n",
    "\n",
    "\n"
   ]
  },
  {
   "cell_type": "markdown",
   "metadata": {
    "colab_type": "text",
    "id": "r_yd9-YYI3e4"
   },
   "source": [
    "##Q1. [6 Points]\n",
    "\n",
    "* Assume that we want to implement the upward-downward search starting from $CDF(k=b)$. Construct a function that gives the expected number of searches when the search starts at $b$ for a binomial distribution with $n$ and $p$.\n",
    "* Compute the number searches for a binomial distribution with $n=10$ and $p=0.4$ for $b=1,b=3, \\dots,b=9$.\n"
   ]
  },
  {
   "cell_type": "code",
   "execution_count": 5,
   "metadata": {
    "colab": {
     "base_uri": "https://localhost:8080/",
     "height": 102
    },
    "colab_type": "code",
    "executionInfo": {
     "elapsed": 424,
     "status": "ok",
     "timestamp": 1583613475617,
     "user": {
      "displayName": "Limeng Lu",
      "photoUrl": "https://lh3.googleusercontent.com/a-/AOh14Gh8ZX4rW7rsrXhvavP0LJmodTwwuT2bd8fm3kyu=s64",
      "userId": "02643143231991406731"
     },
     "user_tz": 300
    },
    "id": "Uu8gftECI3er",
    "outputId": "b5ac50d1-65fa-40be-b5cb-1a5a806803a0"
   },
   "outputs": [
    {
     "data": {
      "text/plain": [
       "[4.058450636799999,\n",
       " 2.8216681472000005,\n",
       " 3.3039166464,\n",
       " 5.015859712,\n",
       " 7.0001048575999985]"
      ]
     },
     "execution_count": 5,
     "metadata": {},
     "output_type": "execute_result"
    }
   ],
   "source": [
    "def expected_search(b,n,p):\n",
    "    x=np.arange(n+1)\n",
    "    pmf=spsp.factorial(n)/spsp.factorial(x)/spsp.factorial(n-x)\n",
    "    pmf=pmf*p**x*(1-p)**(n-x)\n",
    "    searches1=np.arange(2,n-b+2)\n",
    "    searches2=np.arange(b+2,1,-1)\n",
    "    searches=np.append(searches2,searches1)\n",
    "    searches\n",
    "    return np.sum(pmf*searches)\n",
    "[expected_search(b,10,0.4) for b in range(1,11,2)]"
   ]
  },
  {
   "cell_type": "markdown",
   "metadata": {
    "colab_type": "text",
    "id": "2qijBUQNI3en"
   },
   "source": [
    "## Q2. [10 Points]\n",
    "\n",
    "* Implement the upward/downward search when the search start from $CDF(k=4)$ for this binomial distribution."
   ]
  },
  {
   "cell_type": "code",
   "execution_count": 6,
   "metadata": {
    "colab": {
     "base_uri": "https://localhost:8080/",
     "height": 265
    },
    "colab_type": "code",
    "executionInfo": {
     "elapsed": 497,
     "status": "ok",
     "timestamp": 1583613483938,
     "user": {
      "displayName": "Limeng Lu",
      "photoUrl": "https://lh3.googleusercontent.com/a-/AOh14Gh8ZX4rW7rsrXhvavP0LJmodTwwuT2bd8fm3kyu=s64",
      "userId": "02643143231991406731"
     },
     "user_tz": 300
    },
    "id": "h3w7Vf5AI3eY",
    "outputId": "c6b5620a-67dd-42fd-a3f2-c7c4e70cfe96"
   },
   "outputs": [
    {
     "data": {
      "text/plain": [
       "5"
      ]
     },
     "execution_count": 6,
     "metadata": {},
     "output_type": "execute_result"
    }
   ],
   "source": [
    "def updown(start,p,n):\n",
    "    pmf=(1-p)**n\n",
    "    cdf=pmf\n",
    "    for k in range(1,start+1):\n",
    "        pmf=pmf*(n-k+1)/k*p/(1-p)\n",
    "        cdf=cdf+pmf\n",
    "    k=start\n",
    "    u=np.random.rand()\n",
    "    if u>=cdf:\n",
    "        k=k+1\n",
    "        pmf=pmf*(n-k+1)/k*p/(1-p)\n",
    "        cdf=cdf+pmf\n",
    "        while (u>=cdf):\n",
    "            k=k+1\n",
    "            pmf=pmf*(n-k+1)/k*p/(1-p)\n",
    "            cdf=cdf+pmf\n",
    "    else:\n",
    "        cdf=cdf-pmf\n",
    "        while (u<cdf):\n",
    "            pmf=pmf/((n-k+1)/k*p/(1-p))\n",
    "            cdf=cdf-pmf\n",
    "            k=k-1\n",
    "    return k\n",
    "\n",
    "n=10\n",
    "p=0.4\n",
    "start=4\n",
    "\n",
    "\n",
    "updown(start,p,n)"
   ]
  },
  {
   "cell_type": "markdown",
   "metadata": {
    "colab_type": "text",
    "id": "sZg8cqbA8Fi2"
   },
   "source": [
    "#Exercise 2 [34 Points]\n",
    "\n",
    "**Setting**\n",
    "\n",
    "Logarithmic distribution is a popular distribution in insurance study to model insurance claim frequency.\n",
    "\n",
    "The PMF of logarithmic distribution is as follows:\n",
    "\n",
    "$$PMF(x)=\\frac{-p^x}{xln(1-p)}$$, where $x=1, 2, 3, \\dots, \\infty$. For this exercise, let's assume $p=0.8$.\n",
    "\n",
    "For this distribution, the E(x)=$-\\frac{p}{(1-p)ln(1-p)}$"
   ]
  },
  {
   "cell_type": "markdown",
   "metadata": {
    "colab_type": "text",
    "id": "Xw09Qc4w8yOF"
   },
   "source": [
    "##Q1. [6 Points]\n",
    "\n",
    "* Use the inverse transform method to draw 10000 samples from this distribution. \n",
    "> When doing the sampling, start the search from $x=1$. Also, when computing the PMF and CDF, use iterative method for both the PMF update and CDF update.\n",
    "* Plot the sample distribution v.s. the theoretical distribution.\n",
    "* For this inverse transform method, what is the expected number of searches?"
   ]
  },
  {
   "cell_type": "code",
   "execution_count": 7,
   "metadata": {
    "colab": {
     "base_uri": "https://localhost:8080/",
     "height": 282
    },
    "colab_type": "code",
    "executionInfo": {
     "elapsed": 1114,
     "status": "ok",
     "timestamp": 1583613538484,
     "user": {
      "displayName": "Limeng Lu",
      "photoUrl": "https://lh3.googleusercontent.com/a-/AOh14Gh8ZX4rW7rsrXhvavP0LJmodTwwuT2bd8fm3kyu=s64",
      "userId": "02643143231991406731"
     },
     "user_tz": 300
    },
    "id": "sLsAV74n-T7h",
    "outputId": "c2b583b5-1fa9-452c-fffd-8c11f27a23c3"
   },
   "outputs": [
    {
     "data": {
      "image/png": "[encoded data removed]",
      "text/plain": [
       "<Figure size 432x288 with 1 Axes>"
      ]
     },
     "metadata": {
      "needs_background": "light"
     },
     "output_type": "display_data"
    },
    {
     "name": "stdout",
     "output_type": "stream",
     "text": [
      "2.4853397382384474\n"
     ]
    }
   ],
   "source": [
    "p=0.8\n",
    "def iterative():\n",
    "    x=1\n",
    "    pmf=-p**x/np.log(1-p)/x\n",
    "    u=np.random.rand()\n",
    "    cdf=pmf\n",
    "    while(u>=cdf):\n",
    "        x=x+1\n",
    "        pmf=pmf*(p/x*(x-1))\n",
    "        cdf=cdf+pmf\n",
    "    return x\n",
    "\n",
    "samples=[iterative() for i in range(10000)]\n",
    "\n",
    "outcomes,counts=np.unique(samples,return_counts=True)\n",
    "plt.scatter(outcomes,counts/np.sum(counts),zorder=2)\n",
    "\n",
    "x=np.arange(1,np.max(outcomes))\n",
    "pmf=-p**x/np.log(1-p)/x\n",
    "\n",
    "plt.bar(outcomes,counts/np.sum(counts))\n",
    "\n",
    "plt.show()\n",
    "\n",
    "#x=1, 1 search\n",
    "#x=2, 2 searches\n",
    "#x=3, 3 searches\n",
    "#....\n",
    "print(-p/(1-p)/np.log(1-p))"
   ]
  },
  {
   "cell_type": "markdown",
   "metadata": {
    "colab_type": "text",
    "id": "gfGynpuL87x8"
   },
   "source": [
    "##Q2. [3 Points]\n",
    "\n",
    "* Compute the expected number of searches if we decide to use the upward/downward search method starting from $CDF(x=2)$.\n",
    "\n",
    "[To get full points, you need to find the analytical solution based on the expected value of logarithmic distribution.]\n"
   ]
  },
  {
   "cell_type": "code",
   "execution_count": 8,
   "metadata": {
    "colab": {
     "base_uri": "https://localhost:8080/",
     "height": 34
    },
    "colab_type": "code",
    "executionInfo": {
     "elapsed": 346,
     "status": "ok",
     "timestamp": 1583613607398,
     "user": {
      "displayName": "Limeng Lu",
      "photoUrl": "https://lh3.googleusercontent.com/a-/AOh14Gh8ZX4rW7rsrXhvavP0LJmodTwwuT2bd8fm3kyu=s64",
      "userId": "02643143231991406731"
     },
     "user_tz": 300
    },
    "id": "6301y-K2-TeD",
    "outputId": "df4cfde2-d879-49b9-88eb-ad97577fae56"
   },
   "outputs": [
    {
     "name": "stdout",
     "output_type": "stream",
     "text": [
      "3.1753707602405914\n"
     ]
    }
   ],
   "source": [
    "Nsearches1=-p/(1-p)/np.log(1-p)-1+pmf[1]+3*pmf[0]\n",
    "print(Nsearches1)"
   ]
  },
  {
   "cell_type": "code",
   "execution_count": null,
   "metadata": {
    "colab": {},
    "colab_type": "code",
    "id": "xPmtdQZ0EdCh"
   },
   "outputs": [],
   "source": []
  },
  {
   "cell_type": "code",
   "execution_count": null,
   "metadata": {
    "colab": {},
    "colab_type": "code",
    "id": "1tDZ3wdVDm68"
   },
   "outputs": [],
   "source": []
  },
  {
   "cell_type": "markdown",
   "metadata": {
    "colab_type": "text",
    "id": "_wj9Ezu6CSxw"
   },
   "source": [
    "##Q3. [5 Points]\n",
    "\n",
    "We will use geometric distribution as our proposal distribution. It has the following PMF:\n",
    "$$PMF(x)= (1-\\theta)^{x-1} \\theta, x=1,2,3, \\dots, \\infty$$\n",
    "\n",
    "Here, $x$ is the number of trials taken to get the first success. \n",
    "\n",
    "\n",
    "\n",
    "* Derive a method to generate the samples at the same time based on the fact that $CDF(x)$ has a closed-form solution. [No need to show the derivation]. With this algorithm, generate 10000 samples from this distribution with $\\theta=0.2$\n",
    "\n",
    "* Plot the sample distribution v.s. the theoretical distribution."
   ]
  },
  {
   "cell_type": "code",
   "execution_count": 9,
   "metadata": {
    "colab": {
     "base_uri": "https://localhost:8080/",
     "height": 265
    },
    "colab_type": "code",
    "executionInfo": {
     "elapsed": 753,
     "status": "ok",
     "timestamp": 1583613614555,
     "user": {
      "displayName": "Limeng Lu",
      "photoUrl": "https://lh3.googleusercontent.com/a-/AOh14Gh8ZX4rW7rsrXhvavP0LJmodTwwuT2bd8fm3kyu=s64",
      "userId": "02643143231991406731"
     },
     "user_tz": 300
    },
    "id": "IBJui3kRD-qx",
    "outputId": "fe74b22b-f8d7-41e6-f571-29667bd3cd61"
   },
   "outputs": [
    {
     "data": {
      "image/png": "[encoded data removed]",
      "text/plain": [
       "<Figure size 432x288 with 1 Axes>"
      ]
     },
     "metadata": {
      "needs_background": "light"
     },
     "output_type": "display_data"
    }
   ],
   "source": [
    "theta=0.2\n",
    "p=0.8\n",
    "proposals=1+np.floor(np.log(np.random.rand(10000))/np.log(1-theta))\n",
    "x=np.arange(1,np.max(proposals)+1)\n",
    "PMF_proposal=(1-theta)**(x-1)*theta\n",
    "\n",
    "outcomes,counts=np.unique(proposals,return_counts=True)\n",
    "plt.scatter(outcomes,counts/np.sum(counts),zorder=2)    \n",
    "plt.bar(x,PMF_proposal)\n",
    "plt.show()\n",
    "\n"
   ]
  },
  {
   "cell_type": "markdown",
   "metadata": {
    "colab_type": "text",
    "id": "zdHC4eaR9r22"
   },
   "source": [
    "##Q4. [10 Points]\n",
    "\n",
    "* Plot the relationship between $x$ and $\\frac{PMF_{target}(x)}{PMF_{proposal}(x)}$ for $x=1,2,3, \\dots, 1000$ assuming $\\theta=0.2$\n",
    "\n",
    "* Generate 10000 samples from the target distribution using Geometric with $\\theta=0.2$  as the proposal distribution. When generating the samples, use the parallel algorithm.\n",
    "\n",
    "* Plot the sample distribution v.s. the theoretical distribution."
   ]
  },
  {
   "cell_type": "code",
   "execution_count": 10,
   "metadata": {
    "colab": {
     "base_uri": "https://localhost:8080/",
     "height": 265
    },
    "colab_type": "code",
    "executionInfo": {
     "elapsed": 549,
     "status": "ok",
     "timestamp": 1583613620220,
     "user": {
      "displayName": "Limeng Lu",
      "photoUrl": "https://lh3.googleusercontent.com/a-/AOh14Gh8ZX4rW7rsrXhvavP0LJmodTwwuT2bd8fm3kyu=s64",
      "userId": "02643143231991406731"
     },
     "user_tz": 300
    },
    "id": "qEDv_1CQQ449",
    "outputId": "cfeec39c-7671-4dc0-e11a-3e7b7179340f"
   },
   "outputs": [
    {
     "data": {
      "text/plain": [
       "[<matplotlib.lines.Line2D at 0x1a217c1150>]"
      ]
     },
     "execution_count": 10,
     "metadata": {},
     "output_type": "execute_result"
    },
    {
     "data": {
      "image/png": "[encoded data removed]",
      "text/plain": [
       "<Figure size 432x288 with 1 Axes>"
      ]
     },
     "metadata": {
      "needs_background": "light"
     },
     "output_type": "display_data"
    }
   ],
   "source": [
    "x=np.arange(1,1000)\n",
    "theta=0.2\n",
    "p=0.8\n",
    "PMF_proposal=(1-theta)**(x-1)*theta\n",
    "PMF_target=-p**x/np.log(1-p)/x\n",
    "\n",
    "plt.plot(x, PMF_target/PMF_proposal)"
   ]
  },
  {
   "cell_type": "code",
   "execution_count": 11,
   "metadata": {
    "colab": {
     "base_uri": "https://localhost:8080/",
     "height": 265
    },
    "colab_type": "code",
    "executionInfo": {
     "elapsed": 718,
     "status": "ok",
     "timestamp": 1583613624823,
     "user": {
      "displayName": "Limeng Lu",
      "photoUrl": "https://lh3.googleusercontent.com/a-/AOh14Gh8ZX4rW7rsrXhvavP0LJmodTwwuT2bd8fm3kyu=s64",
      "userId": "02643143231991406731"
     },
     "user_tz": 300
    },
    "id": "AW-RUKHwtdSh",
    "outputId": "86a87b6e-935d-49cc-dc88-9b6a0cb209b9"
   },
   "outputs": [
    {
     "data": {
      "image/png": "[encoded data removed]",
      "text/plain": [
       "<Figure size 432x288 with 1 Axes>"
      ]
     },
     "metadata": {
      "needs_background": "light"
     },
     "output_type": "display_data"
    }
   ],
   "source": [
    "c=(PMF_target/PMF_proposal)[0]\n",
    "\n",
    "N=10000\n",
    "N_p=int(N*c+(N*c*(c-1))**0.5*4)\n",
    "proposals=1+np.floor(np.log(np.random.rand(N_p))/np.log(1-theta))\n",
    "AR=(-p**proposals/np.log(1-p)/proposals)/((1-theta)**(proposals-1)*theta)/c\n",
    "U=np.random.rand(N_p)\n",
    "samples=proposals[U<AR][0:N]\n",
    "outcomes,counts=np.unique(samples,return_counts=True)\n",
    "plt.scatter(outcomes,counts/np.sum(counts),zorder=2)    \n",
    "x=np.arange(1,np.max(samples)+1)\n",
    "PMF_target=-p**x/np.log(1-p)/x\n",
    "plt.bar(x,PMF_target)    \n",
    "plt.show()"
   ]
  },
  {
   "cell_type": "markdown",
   "metadata": {
    "colab_type": "text",
    "id": "6w8TFJiyR3xG"
   },
   "source": [
    "## Q5. [10 Points]\n",
    "\n",
    "For a discrete distribution, the part of PMF that does not vary with the outcome variable is called a \"normalizing\" constant. \n",
    "\n",
    "In our case, we can write down our target distribution using $$PMF_{target}(x)=\\frac{-p^x}{x}A$$, where $x=1, 2, 3, \\dots, \\infty$. \n",
    "\n",
    "Here, A is a normalizing constant, which ensures that $\\sum PMF_{target}(x)=1$.\n",
    "\n",
    "\n",
    "Similarly, we can write down our proposal distribution using $$PMF_{proposal}(x)=(1-\\theta)^{x-1}B$$, where $x=1, 2, 3, \\dots, \\infty$. \n",
    "\n",
    "Again, B is a normalizing constant, which ensures that $\\sum PMF_{proposal}(x)=1$.\n",
    "\n",
    "In practice, the normalizing constant might be hard to compute, as a result, we might have un-normalized PMF. \n",
    "$$PMF_{target}^{unnormalized}(x)=\\frac{-p^x}{x}$$\n",
    "$$PMF_{proposal}^{unnormalized}(x)=(1-\\theta)^{x-1}$$\n",
    "\n",
    "For rejection sampling, the algorithm works the same way even when the PMFs are not normalized. The only thing that changes is that $c$ will have a different interpretation.\n",
    "\n",
    "Now, assume that we do not know how to compute the normalizing constant for the proposal distribution and target distribution.\n",
    "\n",
    "* Define a function that generates one sample using rejection sampling treating $PMF_{target}^{unnormalized}(x)$ and $PMF_{proposal}^{unnormalized}(x)$ as normalized. Again, assume $p=0.8$ and $\\theta=0.2$.\n",
    "* Generate 10000 samples using this function. \n",
    "* Plot the sample distribution v.s. the theoretical distribution.\n",
    "* Argue whether we can use $$PMF_{target}^{unnormalized}(x)$$ to generate samples from the inverse transform method. If so, \n",
    "\n",
    "\n",
    "\n",
    "\n"
   ]
  },
  {
   "cell_type": "code",
   "execution_count": 12,
   "metadata": {
    "colab": {
     "base_uri": "https://localhost:8080/",
     "height": 265
    },
    "colab_type": "code",
    "executionInfo": {
     "elapsed": 1048,
     "status": "ok",
     "timestamp": 1583614713661,
     "user": {
      "displayName": "Limeng Lu",
      "photoUrl": "https://lh3.googleusercontent.com/a-/AOh14Gh8ZX4rW7rsrXhvavP0LJmodTwwuT2bd8fm3kyu=s64",
      "userId": "02643143231991406731"
     },
     "user_tz": 300
    },
    "id": "GN9OTfY1qgKH",
    "outputId": "5250c1c9-abf4-4ab5-9631-957ef00853e9"
   },
   "outputs": [
    {
     "data": {
      "image/png": "[encoded data removed]",
      "text/plain": [
       "<Figure size 432x288 with 1 Axes>"
      ]
     },
     "metadata": {
      "needs_background": "light"
     },
     "output_type": "display_data"
    }
   ],
   "source": [
    "x=np.arange(1,100)\n",
    "theta=0.2\n",
    "p=0.8\n",
    "PMF_proposal=(1-theta)**(x-1)\n",
    "PMF_target=p**x/x\n",
    "c=np.max(PMF_target/PMF_proposal)\n",
    "def rejection():\n",
    "    proposal=1+np.floor(np.log(np.random.rand())/np.log(1-theta))\n",
    "    pmf_target=p**proposal/proposal\n",
    "\n",
    "    pmf_proposal=(1-theta)**(proposal-1)\n",
    "    ar=pmf_target/pmf_proposal/c\n",
    "    while (np.random.rand()>ar):\n",
    "        proposal=1+np.floor(np.log(np.random.rand())/np.log(1-theta))\n",
    "        pmf_target=p**proposal/proposal\n",
    "        pmf_proposal=(1-theta)**(proposal-1)\n",
    "        ar=pmf_target/pmf_proposal/c\n",
    "    return proposal\n",
    "\n",
    "samples=[rejection() for i in range(10000)]\n",
    "outcomes,counts=np.unique(samples,return_counts=True)\n",
    "\n",
    "plt.scatter(outcomes,counts/np.sum(counts),zorder=2)    \n",
    "x=np.arange(1,np.max(samples)+1)\n",
    "PMF_target=-p**x/np.log(1-p)/x\n",
    "plt.bar(x,PMF_target)    \n",
    "plt.show()"
   ]
  },
  {
   "cell_type": "markdown",
   "metadata": {
    "colab_type": "text",
    "id": "TOOAEhx1wodN"
   },
   "source": [
    "#Exercise 3 [10 Points]\n",
    "**Setting**\n",
    "\n",
    "The distribution of $x$ is defined on $(-\\infty, \\infty)$ with the following CDF:\n",
    "\n",
    "$F(x)=(1+exp(-x))^{-1}$\n",
    "\n"
   ]
  },
  {
   "cell_type": "markdown",
   "metadata": {
    "colab_type": "text",
    "id": "AH-zyvKdi6tL"
   },
   "source": [
    "## Q1 [10 Points]\n",
    "\n",
    "* Based on the inverse transform method, generate 1000 samples from the distribution. \n",
    "* Plot the sample distribution v.s. theoretical distribution.\n"
   ]
  },
  {
   "cell_type": "code",
   "execution_count": 13,
   "metadata": {
    "colab": {
     "base_uri": "https://localhost:8080/",
     "height": 34
    },
    "colab_type": "code",
    "executionInfo": {
     "elapsed": 1712,
     "status": "ok",
     "timestamp": 1583613646743,
     "user": {
      "displayName": "Limeng Lu",
      "photoUrl": "https://lh3.googleusercontent.com/a-/AOh14Gh8ZX4rW7rsrXhvavP0LJmodTwwuT2bd8fm3kyu=s64",
      "userId": "02643143231991406731"
     },
     "user_tz": 300
    },
    "id": "wHJ_NGGpi6Bv",
    "outputId": "63a9c4d3-6ec8-4753-ebf0-234f8bd6dd64"
   },
   "outputs": [
    {
     "data": {
      "image/png": "[encoded data removed]",
      "text/plain": [
       "<Figure size 432x288 with 1 Axes>"
      ]
     },
     "metadata": {
      "needs_background": "light"
     },
     "output_type": "display_data"
    }
   ],
   "source": [
    "import sympy\n",
    "\n",
    "x=sympy.Symbol(\"x\")\n",
    "u=sympy.Symbol(\"u\")\n",
    "sympy.solve((1+sympy.exp(-x))**(-1)-u,x)\n",
    "x=sympy.Symbol(\"x\")\n",
    "u=sympy.Symbol(\"u\")\n",
    "sympy.diff((1+sympy.exp(-x))**(-1),x)\n",
    "u=np.random.rand(1000)\n",
    "samples=np.log(-u/(u-1))\n",
    "\n",
    "x=np.linspace(np.min(samples),np.max(samples),1000)\n",
    "pdf=np.exp(-x)/(1+np.exp(-x))**2\n",
    "plt.plot(x,pdf)\n",
    "\n",
    "plt.hist(samples,density=True,bins=30)    \n",
    "plt.show()"
   ]
  },
  {
   "cell_type": "code",
   "execution_count": 0,
   "metadata": {
    "colab": {},
    "colab_type": "code",
    "id": "-rjUOmpUs3Lo"
   },
   "outputs": [],
   "source": []
  }
 ],
 "metadata": {
  "colab": {
   "collapsed_sections": [],
   "name": "Limeng Lu - HW4 (IEOR 4404 Spring 2020).ipynb",
   "provenance": [
    {
     "file_id": "1WEv7bVsx9eA-439gwyz6AajBp9kr9Y21",
     "timestamp": 1583126574930
    },
    {
     "file_id": "1jULEGgQCgS_ZS7O7gEqAj1lyuVW3A3vX",
     "timestamp": 1583111185804
    },
    {
     "file_id": "1R0Pm0WvXSWL9lKBdQJ7o4_FsMQNmVHCE",
     "timestamp": 1582173798888
    },
    {
     "file_id": "1o8jgSTSbdEf2c5bG4ODkeTNniydppG1D",
     "timestamp": 1581553330877
    },
    {
     "file_id": "1B3RiAwjISQ07z9mhF2fVNXeqmGsSaSXF",
     "timestamp": 1581482813040
    },
    {
     "file_id": "11dVE9rH0HaiA-vB_-QjbuDjYpd_F6xcp",
     "timestamp": 1580693393623
    },
    {
     "file_id": "1rSHqixCBUKORQHvHU3DKZmKEVclX65AX",
     "timestamp": 1573914583811
    },
    {
     "file_id": "1D_sI569hbsIkkPgyXmrwZnlz4Sk0r2EM",
     "timestamp": 1573683865121
    },
    {
     "file_id": "1KAQlY-b_5oTYAr2HqQm9gVy4UYwejk8w",
     "timestamp": 1573236060279
    },
    {
     "file_id": "1RAnoHD0pJ2hcpKoJH2MEDqFiN9P894XB",
     "timestamp": 1572752481047
    },
    {
     "file_id": "1d90xTvbs1HvPh5e5OWCWS2zb0aGawsUj",
     "timestamp": 1572747469532
    },
    {
     "file_id": "114Di_mbQAakdYMmzSq0QZdQi37dvCGlh",
     "timestamp": 1554755164840
    },
    {
     "file_id": "1rdwhuqgvFprHNMfLZrsZuuR7n_LtJ-2J",
     "timestamp": 1553825647633
    },
    {
     "file_id": "1JCSp6qEW5_aKWiT5cDoBJCYomWWZ7HHj",
     "timestamp": 1553783786349
    },
    {
     "file_id": "1QAwczu2Htj70o-gz0SNv9khVKhm-c9Nx",
     "timestamp": 1539964737693
    }
   ]
  },
  "kernelspec": {
   "display_name": "Python 3",
   "language": "python",
   "name": "python3"
  },
  "language_info": {
   "codemirror_mode": {
    "name": "ipython",
    "version": 3
   },
   "file_extension": ".py",
   "mimetype": "text/x-python",
   "name": "python",
   "nbconvert_exporter": "python",
   "pygments_lexer": "ipython3",
   "version": "3.7.6"
  }
 },
 "nbformat": 4,
 "nbformat_minor": 1
}
